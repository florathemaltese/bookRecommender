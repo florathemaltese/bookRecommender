{
 "cells": [
  {
   "cell_type": "markdown",
   "id": "e0584f67",
   "metadata": {},
   "source": [
    "# Implementing the Popularity Based Recommender System and the Collaborative Filtering Recommender System"
   ]
  },
  {
   "cell_type": "markdown",
   "id": "816af41b",
   "metadata": {},
   "source": [
    "Authors: Wenyun Yuan and Haoyang Chen"
   ]
  },
  {
   "cell_type": "code",
   "execution_count": 1,
   "id": "12d398b3",
   "metadata": {},
   "outputs": [],
   "source": [
    "import numpy as np  \n",
    "import pandas as pd  \n",
    "from sklearn.metrics.pairwise import cosine_similarity  \n",
    "from IPython.display import Image\n",
    "import seaborn as sns\n",
    "import matplotlib.pyplot as plt\n",
    "from collections import defaultdict"
   ]
  },
  {
   "cell_type": "markdown",
   "id": "0fabfdcd",
   "metadata": {},
   "source": [
    "# 1. Problem Understanding and Definition"
   ]
  },
  {
   "cell_type": "markdown",
   "id": "f50f30a4",
   "metadata": {},
   "source": [
    "## 1.1 Definition of the Problem statement and its Significance\n",
    "\n",
    "This study implemented two recommendation system models: the Popularity Based Recommender System and the Collaborative Filtering Recommender System.\n",
    "\n",
    "The Popularity Based Recommender System provides recommendations based on the popularity of items (such as books, movies, products, etc.). This type of recommendation system assumes that items that are most popular or most frequently purchased or rated will be liked by more people. It is typically used in scenarios where there is not much historical user preference data available or as a starting point when recommending to new users. The core idea of this recommendation system is that \"the choice of the masses is not wrong,\" based on the popularity of items (such as the number of ratings and average ratings). It is simple, intuitive, easy to implement, and can quickly provide users with universally popular options.\n",
    "\n",
    "Collaborative filtering is a widely used technique in recommendation systems. This technique predicts content that users may be interested in and recommends it to them by analyzing the similarity between users or items (\"collaboration\"). This method can provide more personalized recommendations because it considers users' personal preferences and historical behavior. In cases where there is a large user base and a significant amount of interaction data, collaborative filtering can effectively identify similarities between users, thus providing more accurate recommendations."
   ]
  },
  {
   "cell_type": "markdown",
   "id": "be7878ba",
   "metadata": {},
   "source": [
    "## 1.2 Identification of the Target Variable and Relevant Features\n",
    "\n",
    "The target variable for the Popularity Based Recommender System is the popularity of books, represented by the number of ratings and the average rating.\n",
    "\n",
    "Relevant features for the Popularity Based Recommender System:\n",
    "- Number of ratings for books (num_ratings): This is a direct indicator of popularity, representing the number of ratings received by each book.\n",
    "- Average rating for books (avg_rating): It reflects the average rating given by users to the books, indicating both the popularity of the books and user satisfaction.\n",
    "- Book title (Book-Title): Although this is a categorical feature, it is a key feature for associating ratings with books in the recommendation system.\n",
    "\n",
    "The target variable for the Collaborative Filtering Recommender System is the ratings that users give to books (aiming to predict these ratings).\n",
    "\n",
    "Relevant features for the Collaborative Filtering Recommender System:\n",
    "- User ID (User-ID): Used to identify different users and their rating behavior.\n",
    "- Book ID or Book title (Book-Title): Used to identify the books being rated.\n",
    "\n",
    "These features are used to build a user-item interaction matrix, which forms the basis of collaborative filtering algorithms. The purpose of the algorithm is to fill in missing values in this matrix, i.e., to predict the ratings that users might give to books they haven't interacted with."
   ]
  },
  {
   "cell_type": "markdown",
   "id": "2d3c6b61",
   "metadata": {},
   "source": [
    "## 1.3 Unsupervised Learning \n",
    "The above two models belong to unsupervised learning. This type of learning does not rely on labeled data but instead learns representations of the data by analyzing its structure and patterns within the dataset."
   ]
  },
  {
   "cell_type": "markdown",
   "id": "c42bffe9",
   "metadata": {},
   "source": [
    "# 2.Data Collection and Preprocessing "
   ]
  },
  {
   "cell_type": "markdown",
   "id": "b8c3ccd3",
   "metadata": {},
   "source": [
    "## 2.1 Data Sources and Data Collection Methods\n",
    "The data sources is The Book-Crossing dataset consists of 3 files:\n",
    "\n",
    "Users: Includes anonymized user IDs mapped to integers. Demographic data like Location and Age are provided if available, otherwise NULL-values.\n",
    "\n",
    "Books: Identified by ISBN. Invalid ISBNs are already removed. Content-based info such as Book-Title, Book-Author, Year-Of-Publication, and Publisher is obtained from Amazon Web Services. For books with multiple authors, only the first is provided. URLs to cover images come in three sizes (small, medium, large), linking to Amazon's website.\n",
    "\n",
    "Ratings: Contains book rating information. Ratings (Book-Rating) range from 1 to 10, with higher values indicating higher appreciation, or are implicit, represented by 0."
   ]
  },
  {
   "cell_type": "markdown",
   "id": "80da9a09",
   "metadata": {},
   "source": [
    "## 2.2 Data Preprocessing Steps\n",
    "The following code processes the data step by step."
   ]
  },
  {
   "cell_type": "markdown",
   "id": "0bd7ffc9",
   "metadata": {},
   "source": [
    "### Reading Data"
   ]
  },
  {
   "cell_type": "code",
   "execution_count": 2,
   "id": "52019bf1",
   "metadata": {
    "execution": {
     "iopub.execute_input": "2024-02-11T19:52:06.253163Z",
     "iopub.status.busy": "2024-02-11T19:52:06.252506Z",
     "iopub.status.idle": "2024-02-11T19:52:10.846829Z",
     "shell.execute_reply": "2024-02-11T19:52:10.845382Z"
    },
    "papermill": {
     "duration": 4.610157,
     "end_time": "2024-02-11T19:52:10.849791",
     "exception": false,
     "start_time": "2024-02-11T19:52:06.239634",
     "status": "completed"
    },
    "tags": []
   },
   "outputs": [],
   "source": [
    "# read 3 CSV files into 3 DataFrames\n",
    "books = pd.read_csv('Books.csv',low_memory=False)\n",
    "users = pd.read_csv('Users.csv')\n",
    "ratings = pd.read_csv('Ratings.csv')"
   ]
  },
  {
   "cell_type": "code",
   "execution_count": 3,
   "id": "1e3c2def",
   "metadata": {
    "execution": {
     "iopub.execute_input": "2024-02-11T19:52:10.875280Z",
     "iopub.status.busy": "2024-02-11T19:52:10.874795Z",
     "iopub.status.idle": "2024-02-11T19:52:10.898801Z",
     "shell.execute_reply": "2024-02-11T19:52:10.897342Z"
    },
    "papermill": {
     "duration": 0.039817,
     "end_time": "2024-02-11T19:52:10.901364",
     "exception": false,
     "start_time": "2024-02-11T19:52:10.861547",
     "status": "completed"
    },
    "scrolled": false,
    "tags": []
   },
   "outputs": [
    {
     "data": {
      "text/html": [
       "<div>\n",
       "<style scoped>\n",
       "    .dataframe tbody tr th:only-of-type {\n",
       "        vertical-align: middle;\n",
       "    }\n",
       "\n",
       "    .dataframe tbody tr th {\n",
       "        vertical-align: top;\n",
       "    }\n",
       "\n",
       "    .dataframe thead th {\n",
       "        text-align: right;\n",
       "    }\n",
       "</style>\n",
       "<table border=\"1\" class=\"dataframe\">\n",
       "  <thead>\n",
       "    <tr style=\"text-align: right;\">\n",
       "      <th></th>\n",
       "      <th>ISBN</th>\n",
       "      <th>Book-Title</th>\n",
       "      <th>Book-Author</th>\n",
       "      <th>Year-Of-Publication</th>\n",
       "      <th>Publisher</th>\n",
       "      <th>Image-URL-S</th>\n",
       "      <th>Image-URL-M</th>\n",
       "      <th>Image-URL-L</th>\n",
       "    </tr>\n",
       "  </thead>\n",
       "  <tbody>\n",
       "    <tr>\n",
       "      <th>0</th>\n",
       "      <td>0195153448</td>\n",
       "      <td>Classical Mythology</td>\n",
       "      <td>Mark P. O. Morford</td>\n",
       "      <td>2002</td>\n",
       "      <td>Oxford University Press</td>\n",
       "      <td>http://images.amazon.com/images/P/0195153448.0...</td>\n",
       "      <td>http://images.amazon.com/images/P/0195153448.0...</td>\n",
       "      <td>http://images.amazon.com/images/P/0195153448.0...</td>\n",
       "    </tr>\n",
       "    <tr>\n",
       "      <th>1</th>\n",
       "      <td>0002005018</td>\n",
       "      <td>Clara Callan</td>\n",
       "      <td>Richard Bruce Wright</td>\n",
       "      <td>2001</td>\n",
       "      <td>HarperFlamingo Canada</td>\n",
       "      <td>http://images.amazon.com/images/P/0002005018.0...</td>\n",
       "      <td>http://images.amazon.com/images/P/0002005018.0...</td>\n",
       "      <td>http://images.amazon.com/images/P/0002005018.0...</td>\n",
       "    </tr>\n",
       "    <tr>\n",
       "      <th>2</th>\n",
       "      <td>0060973129</td>\n",
       "      <td>Decision in Normandy</td>\n",
       "      <td>Carlo D'Este</td>\n",
       "      <td>1991</td>\n",
       "      <td>HarperPerennial</td>\n",
       "      <td>http://images.amazon.com/images/P/0060973129.0...</td>\n",
       "      <td>http://images.amazon.com/images/P/0060973129.0...</td>\n",
       "      <td>http://images.amazon.com/images/P/0060973129.0...</td>\n",
       "    </tr>\n",
       "    <tr>\n",
       "      <th>3</th>\n",
       "      <td>0374157065</td>\n",
       "      <td>Flu: The Story of the Great Influenza Pandemic...</td>\n",
       "      <td>Gina Bari Kolata</td>\n",
       "      <td>1999</td>\n",
       "      <td>Farrar Straus Giroux</td>\n",
       "      <td>http://images.amazon.com/images/P/0374157065.0...</td>\n",
       "      <td>http://images.amazon.com/images/P/0374157065.0...</td>\n",
       "      <td>http://images.amazon.com/images/P/0374157065.0...</td>\n",
       "    </tr>\n",
       "    <tr>\n",
       "      <th>4</th>\n",
       "      <td>0393045218</td>\n",
       "      <td>The Mummies of Urumchi</td>\n",
       "      <td>E. J. W. Barber</td>\n",
       "      <td>1999</td>\n",
       "      <td>W. W. Norton &amp;amp; Company</td>\n",
       "      <td>http://images.amazon.com/images/P/0393045218.0...</td>\n",
       "      <td>http://images.amazon.com/images/P/0393045218.0...</td>\n",
       "      <td>http://images.amazon.com/images/P/0393045218.0...</td>\n",
       "    </tr>\n",
       "  </tbody>\n",
       "</table>\n",
       "</div>"
      ],
      "text/plain": [
       "         ISBN                                         Book-Title  \\\n",
       "0  0195153448                                Classical Mythology   \n",
       "1  0002005018                                       Clara Callan   \n",
       "2  0060973129                               Decision in Normandy   \n",
       "3  0374157065  Flu: The Story of the Great Influenza Pandemic...   \n",
       "4  0393045218                             The Mummies of Urumchi   \n",
       "\n",
       "            Book-Author Year-Of-Publication                   Publisher  \\\n",
       "0    Mark P. O. Morford                2002     Oxford University Press   \n",
       "1  Richard Bruce Wright                2001       HarperFlamingo Canada   \n",
       "2          Carlo D'Este                1991             HarperPerennial   \n",
       "3      Gina Bari Kolata                1999        Farrar Straus Giroux   \n",
       "4       E. J. W. Barber                1999  W. W. Norton &amp; Company   \n",
       "\n",
       "                                         Image-URL-S  \\\n",
       "0  http://images.amazon.com/images/P/0195153448.0...   \n",
       "1  http://images.amazon.com/images/P/0002005018.0...   \n",
       "2  http://images.amazon.com/images/P/0060973129.0...   \n",
       "3  http://images.amazon.com/images/P/0374157065.0...   \n",
       "4  http://images.amazon.com/images/P/0393045218.0...   \n",
       "\n",
       "                                         Image-URL-M  \\\n",
       "0  http://images.amazon.com/images/P/0195153448.0...   \n",
       "1  http://images.amazon.com/images/P/0002005018.0...   \n",
       "2  http://images.amazon.com/images/P/0060973129.0...   \n",
       "3  http://images.amazon.com/images/P/0374157065.0...   \n",
       "4  http://images.amazon.com/images/P/0393045218.0...   \n",
       "\n",
       "                                         Image-URL-L  \n",
       "0  http://images.amazon.com/images/P/0195153448.0...  \n",
       "1  http://images.amazon.com/images/P/0002005018.0...  \n",
       "2  http://images.amazon.com/images/P/0060973129.0...  \n",
       "3  http://images.amazon.com/images/P/0374157065.0...  \n",
       "4  http://images.amazon.com/images/P/0393045218.0...  "
      ]
     },
     "execution_count": 3,
     "metadata": {},
     "output_type": "execute_result"
    }
   ],
   "source": [
    "# display the first 5 rows of the books DataFrame\n",
    "books.head()"
   ]
  },
  {
   "cell_type": "code",
   "execution_count": 4,
   "id": "829dd57b",
   "metadata": {
    "execution": {
     "iopub.execute_input": "2024-02-11T19:52:10.928241Z",
     "iopub.status.busy": "2024-02-11T19:52:10.927837Z",
     "iopub.status.idle": "2024-02-11T19:52:10.936848Z",
     "shell.execute_reply": "2024-02-11T19:52:10.935488Z"
    },
    "papermill": {
     "duration": 0.025635,
     "end_time": "2024-02-11T19:52:10.939468",
     "exception": false,
     "start_time": "2024-02-11T19:52:10.913833",
     "status": "completed"
    },
    "tags": []
   },
   "outputs": [
    {
     "name": "stdout",
     "output_type": "stream",
     "text": [
      "http://images.amazon.com/images/P/0002005018.01.MZZZZZZZ.jpg\n"
     ]
    },
    {
     "data": {
      "text/html": [
       "<img src=\"http://images.amazon.com/images/P/0002005018.01.MZZZZZZZ.jpg\"/>"
      ],
      "text/plain": [
       "<IPython.core.display.Image object>"
      ]
     },
     "metadata": {},
     "output_type": "display_data"
    }
   ],
   "source": [
    "# return the value located in the 2nd row of the Image-URL-M column of the books DataFrame， to get the url for image and display it\n",
    "image_url = books['Image-URL-M'][1]\n",
    "print(image_url)\n",
    "display(Image(url=image_url))"
   ]
  },
  {
   "cell_type": "code",
   "execution_count": 5,
   "id": "7ab256c8",
   "metadata": {
    "execution": {
     "iopub.execute_input": "2024-02-11T19:52:10.966210Z",
     "iopub.status.busy": "2024-02-11T19:52:10.965099Z",
     "iopub.status.idle": "2024-02-11T19:52:10.978108Z",
     "shell.execute_reply": "2024-02-11T19:52:10.976928Z"
    },
    "papermill": {
     "duration": 0.028913,
     "end_time": "2024-02-11T19:52:10.980576",
     "exception": false,
     "start_time": "2024-02-11T19:52:10.951663",
     "status": "completed"
    },
    "tags": []
   },
   "outputs": [
    {
     "data": {
      "text/html": [
       "<div>\n",
       "<style scoped>\n",
       "    .dataframe tbody tr th:only-of-type {\n",
       "        vertical-align: middle;\n",
       "    }\n",
       "\n",
       "    .dataframe tbody tr th {\n",
       "        vertical-align: top;\n",
       "    }\n",
       "\n",
       "    .dataframe thead th {\n",
       "        text-align: right;\n",
       "    }\n",
       "</style>\n",
       "<table border=\"1\" class=\"dataframe\">\n",
       "  <thead>\n",
       "    <tr style=\"text-align: right;\">\n",
       "      <th></th>\n",
       "      <th>User-ID</th>\n",
       "      <th>Location</th>\n",
       "      <th>Age</th>\n",
       "    </tr>\n",
       "  </thead>\n",
       "  <tbody>\n",
       "    <tr>\n",
       "      <th>0</th>\n",
       "      <td>1</td>\n",
       "      <td>nyc, new york, usa</td>\n",
       "      <td>NaN</td>\n",
       "    </tr>\n",
       "    <tr>\n",
       "      <th>1</th>\n",
       "      <td>2</td>\n",
       "      <td>stockton, california, usa</td>\n",
       "      <td>18.0</td>\n",
       "    </tr>\n",
       "    <tr>\n",
       "      <th>2</th>\n",
       "      <td>3</td>\n",
       "      <td>moscow, yukon territory, russia</td>\n",
       "      <td>NaN</td>\n",
       "    </tr>\n",
       "    <tr>\n",
       "      <th>3</th>\n",
       "      <td>4</td>\n",
       "      <td>porto, v.n.gaia, portugal</td>\n",
       "      <td>17.0</td>\n",
       "    </tr>\n",
       "    <tr>\n",
       "      <th>4</th>\n",
       "      <td>5</td>\n",
       "      <td>farnborough, hants, united kingdom</td>\n",
       "      <td>NaN</td>\n",
       "    </tr>\n",
       "  </tbody>\n",
       "</table>\n",
       "</div>"
      ],
      "text/plain": [
       "   User-ID                            Location   Age\n",
       "0        1                  nyc, new york, usa   NaN\n",
       "1        2           stockton, california, usa  18.0\n",
       "2        3     moscow, yukon territory, russia   NaN\n",
       "3        4           porto, v.n.gaia, portugal  17.0\n",
       "4        5  farnborough, hants, united kingdom   NaN"
      ]
     },
     "execution_count": 5,
     "metadata": {},
     "output_type": "execute_result"
    }
   ],
   "source": [
    "# display the first 5 rows of the DataFrame\n",
    "users.head()"
   ]
  },
  {
   "cell_type": "code",
   "execution_count": 6,
   "id": "1b65f3f5",
   "metadata": {
    "execution": {
     "iopub.execute_input": "2024-02-11T19:52:11.007516Z",
     "iopub.status.busy": "2024-02-11T19:52:11.006917Z",
     "iopub.status.idle": "2024-02-11T19:52:11.020776Z",
     "shell.execute_reply": "2024-02-11T19:52:11.019522Z"
    },
    "papermill": {
     "duration": 0.030761,
     "end_time": "2024-02-11T19:52:11.023711",
     "exception": false,
     "start_time": "2024-02-11T19:52:10.992950",
     "status": "completed"
    },
    "tags": []
   },
   "outputs": [
    {
     "data": {
      "text/html": [
       "<div>\n",
       "<style scoped>\n",
       "    .dataframe tbody tr th:only-of-type {\n",
       "        vertical-align: middle;\n",
       "    }\n",
       "\n",
       "    .dataframe tbody tr th {\n",
       "        vertical-align: top;\n",
       "    }\n",
       "\n",
       "    .dataframe thead th {\n",
       "        text-align: right;\n",
       "    }\n",
       "</style>\n",
       "<table border=\"1\" class=\"dataframe\">\n",
       "  <thead>\n",
       "    <tr style=\"text-align: right;\">\n",
       "      <th></th>\n",
       "      <th>User-ID</th>\n",
       "      <th>ISBN</th>\n",
       "      <th>Book-Rating</th>\n",
       "    </tr>\n",
       "  </thead>\n",
       "  <tbody>\n",
       "    <tr>\n",
       "      <th>0</th>\n",
       "      <td>276725</td>\n",
       "      <td>034545104X</td>\n",
       "      <td>0</td>\n",
       "    </tr>\n",
       "    <tr>\n",
       "      <th>1</th>\n",
       "      <td>276726</td>\n",
       "      <td>0155061224</td>\n",
       "      <td>5</td>\n",
       "    </tr>\n",
       "    <tr>\n",
       "      <th>2</th>\n",
       "      <td>276727</td>\n",
       "      <td>0446520802</td>\n",
       "      <td>0</td>\n",
       "    </tr>\n",
       "    <tr>\n",
       "      <th>3</th>\n",
       "      <td>276729</td>\n",
       "      <td>052165615X</td>\n",
       "      <td>3</td>\n",
       "    </tr>\n",
       "    <tr>\n",
       "      <th>4</th>\n",
       "      <td>276729</td>\n",
       "      <td>0521795028</td>\n",
       "      <td>6</td>\n",
       "    </tr>\n",
       "  </tbody>\n",
       "</table>\n",
       "</div>"
      ],
      "text/plain": [
       "   User-ID        ISBN  Book-Rating\n",
       "0   276725  034545104X            0\n",
       "1   276726  0155061224            5\n",
       "2   276727  0446520802            0\n",
       "3   276729  052165615X            3\n",
       "4   276729  0521795028            6"
      ]
     },
     "execution_count": 6,
     "metadata": {},
     "output_type": "execute_result"
    }
   ],
   "source": [
    "# display the first 5 rows of the DataFrame\n",
    "ratings.head()"
   ]
  },
  {
   "cell_type": "code",
   "execution_count": null,
   "id": "08a2cb66",
   "metadata": {},
   "outputs": [],
   "source": [
    "# Update the DataFrame to include only the rows where the 'Book-Rating' is greater than 0.\n",
    "ratings = ratings[ratings['Book-Rating'] > 0]"
   ]
  },
  {
   "cell_type": "code",
   "execution_count": 7,
   "id": "54d1f83d",
   "metadata": {
    "execution": {
     "iopub.execute_input": "2024-02-11T19:52:11.051054Z",
     "iopub.status.busy": "2024-02-11T19:52:11.050568Z",
     "iopub.status.idle": "2024-02-11T19:52:11.058783Z",
     "shell.execute_reply": "2024-02-11T19:52:11.056390Z"
    },
    "papermill": {
     "duration": 0.025596,
     "end_time": "2024-02-11T19:52:11.062004",
     "exception": false,
     "start_time": "2024-02-11T19:52:11.036408",
     "status": "completed"
    },
    "tags": []
   },
   "outputs": [
    {
     "name": "stdout",
     "output_type": "stream",
     "text": [
      "(271360, 8)\n",
      "(1149780, 3)\n",
      "(278858, 3)\n"
     ]
    }
   ],
   "source": [
    "# returns a tuple representing the dimensionality of the DataFrame\n",
    "print(books.shape)\n",
    "print(ratings.shape)\n",
    "print(users.shape)"
   ]
  },
  {
   "cell_type": "markdown",
   "id": "def0159a",
   "metadata": {},
   "source": [
    "### Identifying and Summarizing Potential Quality Issues in Datasets\n",
    "The purpose of the following code is to identify and summarize potential quality issues within the dataset, such as missing values and duplicates. This is an important step in preparing the data for further analysis."
   ]
  },
  {
   "cell_type": "code",
   "execution_count": 8,
   "id": "71aa20f5",
   "metadata": {
    "execution": {
     "iopub.execute_input": "2024-02-11T19:52:11.097231Z",
     "iopub.status.busy": "2024-02-11T19:52:11.096086Z",
     "iopub.status.idle": "2024-02-11T19:52:11.420010Z",
     "shell.execute_reply": "2024-02-11T19:52:11.418897Z"
    },
    "papermill": {
     "duration": 0.345081,
     "end_time": "2024-02-11T19:52:11.422598",
     "exception": false,
     "start_time": "2024-02-11T19:52:11.077517",
     "status": "completed"
    },
    "scrolled": false,
    "tags": []
   },
   "outputs": [
    {
     "data": {
      "text/plain": [
       "ISBN                   0\n",
       "Book-Title             0\n",
       "Book-Author            2\n",
       "Year-Of-Publication    0\n",
       "Publisher              2\n",
       "Image-URL-S            0\n",
       "Image-URL-M            0\n",
       "Image-URL-L            3\n",
       "dtype: int64"
      ]
     },
     "execution_count": 8,
     "metadata": {},
     "output_type": "execute_result"
    }
   ],
   "source": [
    "# identify and sum up all missing values in each column of the books DataFrame\n",
    "books.isnull().sum()"
   ]
  },
  {
   "cell_type": "code",
   "execution_count": 9,
   "id": "8e1cda80",
   "metadata": {
    "execution": {
     "iopub.execute_input": "2024-02-11T19:52:11.449962Z",
     "iopub.status.busy": "2024-02-11T19:52:11.449263Z",
     "iopub.status.idle": "2024-02-11T19:52:11.500685Z",
     "shell.execute_reply": "2024-02-11T19:52:11.499601Z"
    },
    "papermill": {
     "duration": 0.06791,
     "end_time": "2024-02-11T19:52:11.503084",
     "exception": false,
     "start_time": "2024-02-11T19:52:11.435174",
     "status": "completed"
    },
    "tags": []
   },
   "outputs": [
    {
     "data": {
      "text/plain": [
       "User-ID          0\n",
       "Location         0\n",
       "Age         110762\n",
       "dtype: int64"
      ]
     },
     "execution_count": 9,
     "metadata": {},
     "output_type": "execute_result"
    }
   ],
   "source": [
    "# identify and sum up all missing values in each column of the users DataFrame\n",
    "users.isnull().sum()"
   ]
  },
  {
   "cell_type": "code",
   "execution_count": 10,
   "id": "8eef2b9c",
   "metadata": {
    "execution": {
     "iopub.execute_input": "2024-02-11T19:52:11.530726Z",
     "iopub.status.busy": "2024-02-11T19:52:11.529888Z",
     "iopub.status.idle": "2024-02-11T19:52:11.706966Z",
     "shell.execute_reply": "2024-02-11T19:52:11.705719Z"
    },
    "papermill": {
     "duration": 0.193557,
     "end_time": "2024-02-11T19:52:11.709420",
     "exception": false,
     "start_time": "2024-02-11T19:52:11.515863",
     "status": "completed"
    },
    "tags": []
   },
   "outputs": [
    {
     "data": {
      "text/plain": [
       "User-ID        0\n",
       "ISBN           0\n",
       "Book-Rating    0\n",
       "dtype: int64"
      ]
     },
     "execution_count": 10,
     "metadata": {},
     "output_type": "execute_result"
    }
   ],
   "source": [
    "# identify and sum up all missing values in each column of the ratings DataFrame\n",
    "ratings.isnull().sum()"
   ]
  },
  {
   "cell_type": "markdown",
   "id": "6362986d",
   "metadata": {},
   "source": [
    "Overall, the quality of the dataset is acceptable."
   ]
  },
  {
   "cell_type": "markdown",
   "id": "640f5d8f",
   "metadata": {
    "papermill": {
     "duration": 0.013784,
     "end_time": "2024-02-11T19:52:13.008683",
     "exception": false,
     "start_time": "2024-02-11T19:52:12.994899",
     "status": "completed"
    },
    "tags": []
   },
   "source": [
    "### Merge Datasets"
   ]
  },
  {
   "cell_type": "markdown",
   "id": "5201a3f8",
   "metadata": {},
   "source": [
    "The following code will display the processed DataFrame num_rating, which contains the title of each book along with its corresponding number of ratings. This DataFrame can serve as the basis for creating a popularity-based recommendation system, where the most popular (i.e., highest number of ratings) books can be recommended to users. By merging the ratings and books DataFrames, you can associate detailed information about the books (such as title, author, etc.) with the corresponding user ratings. This step is necessary as it provides rich features for subsequent analysis and model building, including user ratings for books and other metadata about the books."
   ]
  },
  {
   "cell_type": "code",
   "execution_count": 11,
   "id": "3e706685",
   "metadata": {
    "execution": {
     "iopub.execute_input": "2024-02-11T19:52:13.038697Z",
     "iopub.status.busy": "2024-02-11T19:52:13.038253Z",
     "iopub.status.idle": "2024-02-11T19:52:14.309832Z",
     "shell.execute_reply": "2024-02-11T19:52:14.308653Z"
    },
    "papermill": {
     "duration": 1.290232,
     "end_time": "2024-02-11T19:52:14.313045",
     "exception": false,
     "start_time": "2024-02-11T19:52:13.022813",
     "status": "completed"
    },
    "tags": []
   },
   "outputs": [],
   "source": [
    "# performs a database-style join operation between two pandas DataFrames, ratings and books, using the merge function.\n",
    "# the primary key is ISBN\n",
    "# Merge the ratings and books DataFrames based on the common key ISBN, so that each rating is associated with detailed information about the corresponding book.\n",
    "ratings_with_name = ratings.merge(books,on='ISBN')"
   ]
  },
  {
   "cell_type": "code",
   "execution_count": 12,
   "id": "0da5cc2d",
   "metadata": {},
   "outputs": [
    {
     "data": {
      "text/html": [
       "<div>\n",
       "<style scoped>\n",
       "    .dataframe tbody tr th:only-of-type {\n",
       "        vertical-align: middle;\n",
       "    }\n",
       "\n",
       "    .dataframe tbody tr th {\n",
       "        vertical-align: top;\n",
       "    }\n",
       "\n",
       "    .dataframe thead th {\n",
       "        text-align: right;\n",
       "    }\n",
       "</style>\n",
       "<table border=\"1\" class=\"dataframe\">\n",
       "  <thead>\n",
       "    <tr style=\"text-align: right;\">\n",
       "      <th></th>\n",
       "      <th>User-ID</th>\n",
       "      <th>ISBN</th>\n",
       "      <th>Book-Rating</th>\n",
       "      <th>Book-Title</th>\n",
       "      <th>Book-Author</th>\n",
       "      <th>Year-Of-Publication</th>\n",
       "      <th>Publisher</th>\n",
       "      <th>Image-URL-S</th>\n",
       "      <th>Image-URL-M</th>\n",
       "      <th>Image-URL-L</th>\n",
       "    </tr>\n",
       "  </thead>\n",
       "  <tbody>\n",
       "    <tr>\n",
       "      <th>0</th>\n",
       "      <td>276725</td>\n",
       "      <td>034545104X</td>\n",
       "      <td>0</td>\n",
       "      <td>Flesh Tones: A Novel</td>\n",
       "      <td>M. J. Rose</td>\n",
       "      <td>2002</td>\n",
       "      <td>Ballantine Books</td>\n",
       "      <td>http://images.amazon.com/images/P/034545104X.0...</td>\n",
       "      <td>http://images.amazon.com/images/P/034545104X.0...</td>\n",
       "      <td>http://images.amazon.com/images/P/034545104X.0...</td>\n",
       "    </tr>\n",
       "    <tr>\n",
       "      <th>1</th>\n",
       "      <td>2313</td>\n",
       "      <td>034545104X</td>\n",
       "      <td>5</td>\n",
       "      <td>Flesh Tones: A Novel</td>\n",
       "      <td>M. J. Rose</td>\n",
       "      <td>2002</td>\n",
       "      <td>Ballantine Books</td>\n",
       "      <td>http://images.amazon.com/images/P/034545104X.0...</td>\n",
       "      <td>http://images.amazon.com/images/P/034545104X.0...</td>\n",
       "      <td>http://images.amazon.com/images/P/034545104X.0...</td>\n",
       "    </tr>\n",
       "    <tr>\n",
       "      <th>2</th>\n",
       "      <td>6543</td>\n",
       "      <td>034545104X</td>\n",
       "      <td>0</td>\n",
       "      <td>Flesh Tones: A Novel</td>\n",
       "      <td>M. J. Rose</td>\n",
       "      <td>2002</td>\n",
       "      <td>Ballantine Books</td>\n",
       "      <td>http://images.amazon.com/images/P/034545104X.0...</td>\n",
       "      <td>http://images.amazon.com/images/P/034545104X.0...</td>\n",
       "      <td>http://images.amazon.com/images/P/034545104X.0...</td>\n",
       "    </tr>\n",
       "    <tr>\n",
       "      <th>3</th>\n",
       "      <td>8680</td>\n",
       "      <td>034545104X</td>\n",
       "      <td>5</td>\n",
       "      <td>Flesh Tones: A Novel</td>\n",
       "      <td>M. J. Rose</td>\n",
       "      <td>2002</td>\n",
       "      <td>Ballantine Books</td>\n",
       "      <td>http://images.amazon.com/images/P/034545104X.0...</td>\n",
       "      <td>http://images.amazon.com/images/P/034545104X.0...</td>\n",
       "      <td>http://images.amazon.com/images/P/034545104X.0...</td>\n",
       "    </tr>\n",
       "    <tr>\n",
       "      <th>4</th>\n",
       "      <td>10314</td>\n",
       "      <td>034545104X</td>\n",
       "      <td>9</td>\n",
       "      <td>Flesh Tones: A Novel</td>\n",
       "      <td>M. J. Rose</td>\n",
       "      <td>2002</td>\n",
       "      <td>Ballantine Books</td>\n",
       "      <td>http://images.amazon.com/images/P/034545104X.0...</td>\n",
       "      <td>http://images.amazon.com/images/P/034545104X.0...</td>\n",
       "      <td>http://images.amazon.com/images/P/034545104X.0...</td>\n",
       "    </tr>\n",
       "    <tr>\n",
       "      <th>...</th>\n",
       "      <td>...</td>\n",
       "      <td>...</td>\n",
       "      <td>...</td>\n",
       "      <td>...</td>\n",
       "      <td>...</td>\n",
       "      <td>...</td>\n",
       "      <td>...</td>\n",
       "      <td>...</td>\n",
       "      <td>...</td>\n",
       "      <td>...</td>\n",
       "    </tr>\n",
       "    <tr>\n",
       "      <th>1031131</th>\n",
       "      <td>276688</td>\n",
       "      <td>0517145553</td>\n",
       "      <td>0</td>\n",
       "      <td>Mostly Harmless</td>\n",
       "      <td>Douglas Adams</td>\n",
       "      <td>1995</td>\n",
       "      <td>Random House Value Pub</td>\n",
       "      <td>http://images.amazon.com/images/P/0517145553.0...</td>\n",
       "      <td>http://images.amazon.com/images/P/0517145553.0...</td>\n",
       "      <td>http://images.amazon.com/images/P/0517145553.0...</td>\n",
       "    </tr>\n",
       "    <tr>\n",
       "      <th>1031132</th>\n",
       "      <td>276688</td>\n",
       "      <td>1575660792</td>\n",
       "      <td>7</td>\n",
       "      <td>Gray Matter</td>\n",
       "      <td>Shirley Kennett</td>\n",
       "      <td>1996</td>\n",
       "      <td>Kensington Publishing Corporation</td>\n",
       "      <td>http://images.amazon.com/images/P/1575660792.0...</td>\n",
       "      <td>http://images.amazon.com/images/P/1575660792.0...</td>\n",
       "      <td>http://images.amazon.com/images/P/1575660792.0...</td>\n",
       "    </tr>\n",
       "    <tr>\n",
       "      <th>1031133</th>\n",
       "      <td>276690</td>\n",
       "      <td>0590907301</td>\n",
       "      <td>0</td>\n",
       "      <td>Triplet Trouble and the Class Trip (Triplet Tr...</td>\n",
       "      <td>Debbie Dadey</td>\n",
       "      <td>1997</td>\n",
       "      <td>Apple</td>\n",
       "      <td>http://images.amazon.com/images/P/0590907301.0...</td>\n",
       "      <td>http://images.amazon.com/images/P/0590907301.0...</td>\n",
       "      <td>http://images.amazon.com/images/P/0590907301.0...</td>\n",
       "    </tr>\n",
       "    <tr>\n",
       "      <th>1031134</th>\n",
       "      <td>276704</td>\n",
       "      <td>0679752714</td>\n",
       "      <td>0</td>\n",
       "      <td>A Desert of Pure Feeling (Vintage Contemporaries)</td>\n",
       "      <td>Judith Freeman</td>\n",
       "      <td>1997</td>\n",
       "      <td>Vintage Books USA</td>\n",
       "      <td>http://images.amazon.com/images/P/0679752714.0...</td>\n",
       "      <td>http://images.amazon.com/images/P/0679752714.0...</td>\n",
       "      <td>http://images.amazon.com/images/P/0679752714.0...</td>\n",
       "    </tr>\n",
       "    <tr>\n",
       "      <th>1031135</th>\n",
       "      <td>276704</td>\n",
       "      <td>0806917695</td>\n",
       "      <td>5</td>\n",
       "      <td>Perplexing Lateral Thinking Puzzles: Scholasti...</td>\n",
       "      <td>Paul Sloane</td>\n",
       "      <td>1997</td>\n",
       "      <td>Sterling Publishing</td>\n",
       "      <td>http://images.amazon.com/images/P/0806917695.0...</td>\n",
       "      <td>http://images.amazon.com/images/P/0806917695.0...</td>\n",
       "      <td>http://images.amazon.com/images/P/0806917695.0...</td>\n",
       "    </tr>\n",
       "  </tbody>\n",
       "</table>\n",
       "<p>1031136 rows × 10 columns</p>\n",
       "</div>"
      ],
      "text/plain": [
       "         User-ID        ISBN  Book-Rating  \\\n",
       "0         276725  034545104X            0   \n",
       "1           2313  034545104X            5   \n",
       "2           6543  034545104X            0   \n",
       "3           8680  034545104X            5   \n",
       "4          10314  034545104X            9   \n",
       "...          ...         ...          ...   \n",
       "1031131   276688  0517145553            0   \n",
       "1031132   276688  1575660792            7   \n",
       "1031133   276690  0590907301            0   \n",
       "1031134   276704  0679752714            0   \n",
       "1031135   276704  0806917695            5   \n",
       "\n",
       "                                                Book-Title      Book-Author  \\\n",
       "0                                     Flesh Tones: A Novel       M. J. Rose   \n",
       "1                                     Flesh Tones: A Novel       M. J. Rose   \n",
       "2                                     Flesh Tones: A Novel       M. J. Rose   \n",
       "3                                     Flesh Tones: A Novel       M. J. Rose   \n",
       "4                                     Flesh Tones: A Novel       M. J. Rose   \n",
       "...                                                    ...              ...   \n",
       "1031131                                    Mostly Harmless    Douglas Adams   \n",
       "1031132                                        Gray Matter  Shirley Kennett   \n",
       "1031133  Triplet Trouble and the Class Trip (Triplet Tr...     Debbie Dadey   \n",
       "1031134  A Desert of Pure Feeling (Vintage Contemporaries)   Judith Freeman   \n",
       "1031135  Perplexing Lateral Thinking Puzzles: Scholasti...      Paul Sloane   \n",
       "\n",
       "        Year-Of-Publication                          Publisher  \\\n",
       "0                      2002                   Ballantine Books   \n",
       "1                      2002                   Ballantine Books   \n",
       "2                      2002                   Ballantine Books   \n",
       "3                      2002                   Ballantine Books   \n",
       "4                      2002                   Ballantine Books   \n",
       "...                     ...                                ...   \n",
       "1031131                1995             Random House Value Pub   \n",
       "1031132                1996  Kensington Publishing Corporation   \n",
       "1031133                1997                              Apple   \n",
       "1031134                1997                  Vintage Books USA   \n",
       "1031135                1997                Sterling Publishing   \n",
       "\n",
       "                                               Image-URL-S  \\\n",
       "0        http://images.amazon.com/images/P/034545104X.0...   \n",
       "1        http://images.amazon.com/images/P/034545104X.0...   \n",
       "2        http://images.amazon.com/images/P/034545104X.0...   \n",
       "3        http://images.amazon.com/images/P/034545104X.0...   \n",
       "4        http://images.amazon.com/images/P/034545104X.0...   \n",
       "...                                                    ...   \n",
       "1031131  http://images.amazon.com/images/P/0517145553.0...   \n",
       "1031132  http://images.amazon.com/images/P/1575660792.0...   \n",
       "1031133  http://images.amazon.com/images/P/0590907301.0...   \n",
       "1031134  http://images.amazon.com/images/P/0679752714.0...   \n",
       "1031135  http://images.amazon.com/images/P/0806917695.0...   \n",
       "\n",
       "                                               Image-URL-M  \\\n",
       "0        http://images.amazon.com/images/P/034545104X.0...   \n",
       "1        http://images.amazon.com/images/P/034545104X.0...   \n",
       "2        http://images.amazon.com/images/P/034545104X.0...   \n",
       "3        http://images.amazon.com/images/P/034545104X.0...   \n",
       "4        http://images.amazon.com/images/P/034545104X.0...   \n",
       "...                                                    ...   \n",
       "1031131  http://images.amazon.com/images/P/0517145553.0...   \n",
       "1031132  http://images.amazon.com/images/P/1575660792.0...   \n",
       "1031133  http://images.amazon.com/images/P/0590907301.0...   \n",
       "1031134  http://images.amazon.com/images/P/0679752714.0...   \n",
       "1031135  http://images.amazon.com/images/P/0806917695.0...   \n",
       "\n",
       "                                               Image-URL-L  \n",
       "0        http://images.amazon.com/images/P/034545104X.0...  \n",
       "1        http://images.amazon.com/images/P/034545104X.0...  \n",
       "2        http://images.amazon.com/images/P/034545104X.0...  \n",
       "3        http://images.amazon.com/images/P/034545104X.0...  \n",
       "4        http://images.amazon.com/images/P/034545104X.0...  \n",
       "...                                                    ...  \n",
       "1031131  http://images.amazon.com/images/P/0517145553.0...  \n",
       "1031132  http://images.amazon.com/images/P/1575660792.0...  \n",
       "1031133  http://images.amazon.com/images/P/0590907301.0...  \n",
       "1031134  http://images.amazon.com/images/P/0679752714.0...  \n",
       "1031135  http://images.amazon.com/images/P/0806917695.0...  \n",
       "\n",
       "[1031136 rows x 10 columns]"
      ]
     },
     "execution_count": 12,
     "metadata": {},
     "output_type": "execute_result"
    }
   ],
   "source": [
    "ratings_with_name"
   ]
  },
  {
   "cell_type": "code",
   "execution_count": 14,
   "id": "4431dcba",
   "metadata": {
    "execution": {
     "iopub.execute_input": "2024-02-11T19:52:14.344250Z",
     "iopub.status.busy": "2024-02-11T19:52:14.343800Z",
     "iopub.status.idle": "2024-02-11T19:52:16.172675Z",
     "shell.execute_reply": "2024-02-11T19:52:16.171802Z"
    },
    "papermill": {
     "duration": 1.84685,
     "end_time": "2024-02-11T19:52:16.175202",
     "exception": false,
     "start_time": "2024-02-11T19:52:14.328352",
     "status": "completed"
    },
    "tags": []
   },
   "outputs": [],
   "source": [
    "# 1. Group the ratings_with_name DataFrame by the 'Book-Title' column\n",
    "# This allows for aggregating ratings for each book\n",
    "grouped_by_title = ratings_with_name.groupby('Book-Title')\n",
    "\n",
    "\n"
   ]
  },
  {
   "cell_type": "code",
   "execution_count": 15,
   "id": "ebcca38e",
   "metadata": {},
   "outputs": [
    {
     "name": "stdout",
     "output_type": "stream",
     "text": [
      "Book-Title\n",
      " A Light in the Storm: The Civil War Diary of Amelia Martin, Fenwick Island, Delaware, 1861 (Dear America)    1\n",
      " Ask Lily (Young Women of Faith: Lily Series, Book 5)                                                         1\n",
      " Dark Justice                                                                                                 1\n",
      " Earth Prayers From around the World: 365 Prayers, Poems, and Invocations for Honoring the Earth              7\n",
      " Final Fantasy Anthology: Official Strategy Guide (Brady Games)                                               2\n",
      "                                                                                                             ..\n",
      "Ã?Â?bernachten mit Stil. Die schÃ?Â¶nsten Country Inns und Bed und Breakfast der USA.                         1\n",
      "Ã?Â?rger mit Produkt X. Roman.                                                                                3\n",
      "Ã?Â?sterlich leben.                                                                                           1\n",
      "Ã?Â?stlich der Berge.                                                                                         1\n",
      "Ã?Â?thique en toc                                                                                             1\n",
      "Length: 135567, dtype: int64\n"
     ]
    }
   ],
   "source": [
    "print(grouped_by_title.size())"
   ]
  },
  {
   "cell_type": "code",
   "execution_count": 16,
   "id": "c34547c4",
   "metadata": {},
   "outputs": [
    {
     "data": {
      "text/html": [
       "<div>\n",
       "<style scoped>\n",
       "    .dataframe tbody tr th:only-of-type {\n",
       "        vertical-align: middle;\n",
       "    }\n",
       "\n",
       "    .dataframe tbody tr th {\n",
       "        vertical-align: top;\n",
       "    }\n",
       "\n",
       "    .dataframe thead th {\n",
       "        text-align: right;\n",
       "    }\n",
       "</style>\n",
       "<table border=\"1\" class=\"dataframe\">\n",
       "  <thead>\n",
       "    <tr style=\"text-align: right;\">\n",
       "      <th></th>\n",
       "      <th>Book-Title</th>\n",
       "      <th>num_ratings</th>\n",
       "    </tr>\n",
       "  </thead>\n",
       "  <tbody>\n",
       "    <tr>\n",
       "      <th>0</th>\n",
       "      <td>A Light in the Storm: The Civil War Diary of ...</td>\n",
       "      <td>1</td>\n",
       "    </tr>\n",
       "    <tr>\n",
       "      <th>1</th>\n",
       "      <td>Ask Lily (Young Women of Faith: Lily Series, ...</td>\n",
       "      <td>1</td>\n",
       "    </tr>\n",
       "    <tr>\n",
       "      <th>2</th>\n",
       "      <td>Dark Justice</td>\n",
       "      <td>1</td>\n",
       "    </tr>\n",
       "    <tr>\n",
       "      <th>3</th>\n",
       "      <td>Earth Prayers From around the World: 365 Pray...</td>\n",
       "      <td>7</td>\n",
       "    </tr>\n",
       "    <tr>\n",
       "      <th>4</th>\n",
       "      <td>Final Fantasy Anthology: Official Strategy Gu...</td>\n",
       "      <td>2</td>\n",
       "    </tr>\n",
       "    <tr>\n",
       "      <th>...</th>\n",
       "      <td>...</td>\n",
       "      <td>...</td>\n",
       "    </tr>\n",
       "    <tr>\n",
       "      <th>135562</th>\n",
       "      <td>Ã?Â?bernachten mit Stil. Die schÃ?Â¶nsten Coun...</td>\n",
       "      <td>1</td>\n",
       "    </tr>\n",
       "    <tr>\n",
       "      <th>135563</th>\n",
       "      <td>Ã?Â?rger mit Produkt X. Roman.</td>\n",
       "      <td>3</td>\n",
       "    </tr>\n",
       "    <tr>\n",
       "      <th>135564</th>\n",
       "      <td>Ã?Â?sterlich leben.</td>\n",
       "      <td>1</td>\n",
       "    </tr>\n",
       "    <tr>\n",
       "      <th>135565</th>\n",
       "      <td>Ã?Â?stlich der Berge.</td>\n",
       "      <td>1</td>\n",
       "    </tr>\n",
       "    <tr>\n",
       "      <th>135566</th>\n",
       "      <td>Ã?Â?thique en toc</td>\n",
       "      <td>1</td>\n",
       "    </tr>\n",
       "  </tbody>\n",
       "</table>\n",
       "<p>135567 rows × 2 columns</p>\n",
       "</div>"
      ],
      "text/plain": [
       "                                               Book-Title  num_ratings\n",
       "0        A Light in the Storm: The Civil War Diary of ...            1\n",
       "1        Ask Lily (Young Women of Faith: Lily Series, ...            1\n",
       "2                                            Dark Justice            1\n",
       "3        Earth Prayers From around the World: 365 Pray...            7\n",
       "4        Final Fantasy Anthology: Official Strategy Gu...            2\n",
       "...                                                   ...          ...\n",
       "135562  Ã?Â?bernachten mit Stil. Die schÃ?Â¶nsten Coun...            1\n",
       "135563                     Ã?Â?rger mit Produkt X. Roman.            3\n",
       "135564                                Ã?Â?sterlich leben.            1\n",
       "135565                              Ã?Â?stlich der Berge.            1\n",
       "135566                                  Ã?Â?thique en toc            1\n",
       "\n",
       "[135567 rows x 2 columns]"
      ]
     },
     "execution_count": 16,
     "metadata": {},
     "output_type": "execute_result"
    }
   ],
   "source": [
    "# 2. Calculate the count of non-null (non-NA/null) values for each group, focusing on the 'Book-Rating' column\n",
    "# This step aims to determine how many ratings each book has, which can be considered as a popularity indicator for each book\n",
    "count_ratings = grouped_by_title.count()\n",
    "\n",
    "# 3. Select the 'Book-Rating' column from the count results\n",
    "book_rating_counts = count_ratings['Book-Rating']\n",
    "\n",
    "# 4. Reset the index to turn 'Book-Title' from an index back into a regular column\n",
    "# Use the book titles as a field instead of indexing the DataFrame with them\n",
    "# After performing this operation, Book-Title is no longer the index but rather a column in the DataFrame, and the DataFrame automatically gets a new integer index starting from 0. This increases the flexibility of operations and makes the DataFrame easier to work with\n",
    "num_rating = book_rating_counts.reset_index()\n",
    "\n",
    "# 5. Rename the 'Book-Rating' column to 'num_ratings' to more clearly indicate it now represents the count of ratings\n",
    "num_rating.rename(columns={'Book-Rating': 'num_ratings'}, inplace=True)\n",
    "\n",
    "# Display the result\n",
    "num_rating"
   ]
  },
  {
   "cell_type": "code",
   "execution_count": 17,
   "id": "66fabbde",
   "metadata": {},
   "outputs": [],
   "source": [
    "# The following code utilizes the Pandas library in Python to process the `ratings_with_name` DataFrame and create a table of average ratings grouped by book titles"
   ]
  },
  {
   "cell_type": "code",
   "execution_count": 18,
   "id": "3dd120b0",
   "metadata": {
    "execution": {
     "iopub.execute_input": "2024-02-11T19:52:16.204927Z",
     "iopub.status.busy": "2024-02-11T19:52:16.204251Z",
     "iopub.status.idle": "2024-02-11T19:52:17.140648Z",
     "shell.execute_reply": "2024-02-11T19:52:17.139311Z"
    },
    "papermill": {
     "duration": 0.954595,
     "end_time": "2024-02-11T19:52:17.143537",
     "exception": false,
     "start_time": "2024-02-11T19:52:16.188942",
     "status": "completed"
    },
    "tags": []
   },
   "outputs": [
    {
     "data": {
      "text/html": [
       "<div>\n",
       "<style scoped>\n",
       "    .dataframe tbody tr th:only-of-type {\n",
       "        vertical-align: middle;\n",
       "    }\n",
       "\n",
       "    .dataframe tbody tr th {\n",
       "        vertical-align: top;\n",
       "    }\n",
       "\n",
       "    .dataframe thead th {\n",
       "        text-align: right;\n",
       "    }\n",
       "</style>\n",
       "<table border=\"1\" class=\"dataframe\">\n",
       "  <thead>\n",
       "    <tr style=\"text-align: right;\">\n",
       "      <th></th>\n",
       "      <th>Book-Title</th>\n",
       "      <th>avg_rating</th>\n",
       "    </tr>\n",
       "  </thead>\n",
       "  <tbody>\n",
       "    <tr>\n",
       "      <th>0</th>\n",
       "      <td>A Light in the Storm: The Civil War Diary of ...</td>\n",
       "      <td>9.000000</td>\n",
       "    </tr>\n",
       "    <tr>\n",
       "      <th>1</th>\n",
       "      <td>Ask Lily (Young Women of Faith: Lily Series, ...</td>\n",
       "      <td>8.000000</td>\n",
       "    </tr>\n",
       "    <tr>\n",
       "      <th>2</th>\n",
       "      <td>Dark Justice</td>\n",
       "      <td>10.000000</td>\n",
       "    </tr>\n",
       "    <tr>\n",
       "      <th>3</th>\n",
       "      <td>Earth Prayers From around the World: 365 Pray...</td>\n",
       "      <td>7.142857</td>\n",
       "    </tr>\n",
       "    <tr>\n",
       "      <th>4</th>\n",
       "      <td>Final Fantasy Anthology: Official Strategy Gu...</td>\n",
       "      <td>10.000000</td>\n",
       "    </tr>\n",
       "    <tr>\n",
       "      <th>...</th>\n",
       "      <td>...</td>\n",
       "      <td>...</td>\n",
       "    </tr>\n",
       "    <tr>\n",
       "      <th>135562</th>\n",
       "      <td>Ã?Â?bernachten mit Stil. Die schÃ?Â¶nsten Coun...</td>\n",
       "      <td>8.000000</td>\n",
       "    </tr>\n",
       "    <tr>\n",
       "      <th>135563</th>\n",
       "      <td>Ã?Â?rger mit Produkt X. Roman.</td>\n",
       "      <td>7.000000</td>\n",
       "    </tr>\n",
       "    <tr>\n",
       "      <th>135564</th>\n",
       "      <td>Ã?Â?sterlich leben.</td>\n",
       "      <td>7.000000</td>\n",
       "    </tr>\n",
       "    <tr>\n",
       "      <th>135565</th>\n",
       "      <td>Ã?Â?stlich der Berge.</td>\n",
       "      <td>8.000000</td>\n",
       "    </tr>\n",
       "    <tr>\n",
       "      <th>135566</th>\n",
       "      <td>Ã?Â?thique en toc</td>\n",
       "      <td>8.000000</td>\n",
       "    </tr>\n",
       "  </tbody>\n",
       "</table>\n",
       "<p>135567 rows × 2 columns</p>\n",
       "</div>"
      ],
      "text/plain": [
       "                                               Book-Title  avg_rating\n",
       "0        A Light in the Storm: The Civil War Diary of ...    9.000000\n",
       "1        Ask Lily (Young Women of Faith: Lily Series, ...    8.000000\n",
       "2                                            Dark Justice   10.000000\n",
       "3        Earth Prayers From around the World: 365 Pray...    7.142857\n",
       "4        Final Fantasy Anthology: Official Strategy Gu...   10.000000\n",
       "...                                                   ...         ...\n",
       "135562  Ã?Â?bernachten mit Stil. Die schÃ?Â¶nsten Coun...    8.000000\n",
       "135563                     Ã?Â?rger mit Produkt X. Roman.    7.000000\n",
       "135564                                Ã?Â?sterlich leben.    7.000000\n",
       "135565                              Ã?Â?stlich der Berge.    8.000000\n",
       "135566                                  Ã?Â?thique en toc    8.000000\n",
       "\n",
       "[135567 rows x 2 columns]"
      ]
     },
     "execution_count": 18,
     "metadata": {},
     "output_type": "execute_result"
    }
   ],
   "source": [
    "# 1. Group the ratings_with_name DataFrame by the 'Book-Title'\n",
    "grouped_by_title = ratings_with_name.groupby('Book-Title')\n",
    "\n",
    "# 2. Calculate the average 'Book-Rating' for each group\n",
    "mean_ratings = grouped_by_title['Book-Rating'].mean()\n",
    "\n",
    "# 3. Convert the resulting Series to a DataFrame and reset the index\n",
    "avg_rating = mean_ratings.reset_index()\n",
    "\n",
    "# 4. Rename the column from 'Book-Rating' to 'avg_rating' to more clearly indicate it represents the average rating\n",
    "avg_rating.rename(columns={'Book-Rating': 'avg_rating'}, inplace=True)\n",
    "\n",
    "# Display the result\n",
    "avg_rating"
   ]
  },
  {
   "cell_type": "markdown",
   "id": "dfea0dce",
   "metadata": {},
   "source": [
    "## 3. Popularity Based Recommender System"
   ]
  },
  {
   "cell_type": "markdown",
   "id": "577b8c47",
   "metadata": {},
   "source": []
  },
  {
   "cell_type": "code",
   "execution_count": 19,
   "id": "d6694cfd",
   "metadata": {
    "execution": {
     "iopub.execute_input": "2024-02-11T19:52:17.174064Z",
     "iopub.status.busy": "2024-02-11T19:52:17.173586Z",
     "iopub.status.idle": "2024-02-11T19:52:17.352774Z",
     "shell.execute_reply": "2024-02-11T19:52:17.351302Z"
    },
    "papermill": {
     "duration": 0.197973,
     "end_time": "2024-02-11T19:52:17.355926",
     "exception": false,
     "start_time": "2024-02-11T19:52:17.157953",
     "status": "completed"
    },
    "tags": []
   },
   "outputs": [
    {
     "data": {
      "text/html": [
       "<div>\n",
       "<style scoped>\n",
       "    .dataframe tbody tr th:only-of-type {\n",
       "        vertical-align: middle;\n",
       "    }\n",
       "\n",
       "    .dataframe tbody tr th {\n",
       "        vertical-align: top;\n",
       "    }\n",
       "\n",
       "    .dataframe thead th {\n",
       "        text-align: right;\n",
       "    }\n",
       "</style>\n",
       "<table border=\"1\" class=\"dataframe\">\n",
       "  <thead>\n",
       "    <tr style=\"text-align: right;\">\n",
       "      <th></th>\n",
       "      <th>Book-Title</th>\n",
       "      <th>num_ratings</th>\n",
       "      <th>avg_rating</th>\n",
       "    </tr>\n",
       "  </thead>\n",
       "  <tbody>\n",
       "    <tr>\n",
       "      <th>0</th>\n",
       "      <td>A Light in the Storm: The Civil War Diary of ...</td>\n",
       "      <td>1</td>\n",
       "      <td>9.000000</td>\n",
       "    </tr>\n",
       "    <tr>\n",
       "      <th>1</th>\n",
       "      <td>Ask Lily (Young Women of Faith: Lily Series, ...</td>\n",
       "      <td>1</td>\n",
       "      <td>8.000000</td>\n",
       "    </tr>\n",
       "    <tr>\n",
       "      <th>2</th>\n",
       "      <td>Dark Justice</td>\n",
       "      <td>1</td>\n",
       "      <td>10.000000</td>\n",
       "    </tr>\n",
       "    <tr>\n",
       "      <th>3</th>\n",
       "      <td>Earth Prayers From around the World: 365 Pray...</td>\n",
       "      <td>7</td>\n",
       "      <td>7.142857</td>\n",
       "    </tr>\n",
       "    <tr>\n",
       "      <th>4</th>\n",
       "      <td>Final Fantasy Anthology: Official Strategy Gu...</td>\n",
       "      <td>2</td>\n",
       "      <td>10.000000</td>\n",
       "    </tr>\n",
       "    <tr>\n",
       "      <th>...</th>\n",
       "      <td>...</td>\n",
       "      <td>...</td>\n",
       "      <td>...</td>\n",
       "    </tr>\n",
       "    <tr>\n",
       "      <th>135562</th>\n",
       "      <td>Ã?Â?bernachten mit Stil. Die schÃ?Â¶nsten Coun...</td>\n",
       "      <td>1</td>\n",
       "      <td>8.000000</td>\n",
       "    </tr>\n",
       "    <tr>\n",
       "      <th>135563</th>\n",
       "      <td>Ã?Â?rger mit Produkt X. Roman.</td>\n",
       "      <td>3</td>\n",
       "      <td>7.000000</td>\n",
       "    </tr>\n",
       "    <tr>\n",
       "      <th>135564</th>\n",
       "      <td>Ã?Â?sterlich leben.</td>\n",
       "      <td>1</td>\n",
       "      <td>7.000000</td>\n",
       "    </tr>\n",
       "    <tr>\n",
       "      <th>135565</th>\n",
       "      <td>Ã?Â?stlich der Berge.</td>\n",
       "      <td>1</td>\n",
       "      <td>8.000000</td>\n",
       "    </tr>\n",
       "    <tr>\n",
       "      <th>135566</th>\n",
       "      <td>Ã?Â?thique en toc</td>\n",
       "      <td>1</td>\n",
       "      <td>8.000000</td>\n",
       "    </tr>\n",
       "  </tbody>\n",
       "</table>\n",
       "<p>135567 rows × 3 columns</p>\n",
       "</div>"
      ],
      "text/plain": [
       "                                               Book-Title  num_ratings  \\\n",
       "0        A Light in the Storm: The Civil War Diary of ...            1   \n",
       "1        Ask Lily (Young Women of Faith: Lily Series, ...            1   \n",
       "2                                            Dark Justice            1   \n",
       "3        Earth Prayers From around the World: 365 Pray...            7   \n",
       "4        Final Fantasy Anthology: Official Strategy Gu...            2   \n",
       "...                                                   ...          ...   \n",
       "135562  Ã?Â?bernachten mit Stil. Die schÃ?Â¶nsten Coun...            1   \n",
       "135563                     Ã?Â?rger mit Produkt X. Roman.            3   \n",
       "135564                                Ã?Â?sterlich leben.            1   \n",
       "135565                              Ã?Â?stlich der Berge.            1   \n",
       "135566                                  Ã?Â?thique en toc            1   \n",
       "\n",
       "        avg_rating  \n",
       "0         9.000000  \n",
       "1         8.000000  \n",
       "2        10.000000  \n",
       "3         7.142857  \n",
       "4        10.000000  \n",
       "...            ...  \n",
       "135562    8.000000  \n",
       "135563    7.000000  \n",
       "135564    7.000000  \n",
       "135565    8.000000  \n",
       "135566    8.000000  \n",
       "\n",
       "[135567 rows x 3 columns]"
      ]
     },
     "execution_count": 19,
     "metadata": {},
     "output_type": "execute_result"
    }
   ],
   "source": [
    "# 1. Merge the num_rating and avg_rating DataFrames using the merge function\n",
    "# Specify 'on='Book-Title'' to indicate the column on which to base the merge\n",
    "merged_data = num_rating.merge(avg_rating, on='Book-Title')\n",
    "\n",
    "# 2. Assign the merged DataFrame to the variable 'popular'\n",
    "popular = merged_data\n",
    "\n",
    "# Display the merged result\n",
    "popular"
   ]
  },
  {
   "cell_type": "code",
   "execution_count": 20,
   "id": "d683b3a4",
   "metadata": {
    "execution": {
     "iopub.execute_input": "2024-02-11T19:52:17.387660Z",
     "iopub.status.busy": "2024-02-11T19:52:17.387200Z",
     "iopub.status.idle": "2024-02-11T19:52:17.396519Z",
     "shell.execute_reply": "2024-02-11T19:52:17.395308Z"
    },
    "papermill": {
     "duration": 0.027871,
     "end_time": "2024-02-11T19:52:17.398735",
     "exception": false,
     "start_time": "2024-02-11T19:52:17.370864",
     "status": "completed"
    },
    "tags": []
   },
   "outputs": [],
   "source": [
    "# 1. Filter the 'popular' DataFrame to include only books with at least 100 ratings\n",
    "filtered_popular = popular[popular['num_ratings'] >= 100]\n",
    "\n",
    "# 2. Sort the filtered DataFrame by 'avg_rating' in descending order to get the books with the highest average ratings at the top\n",
    "sorted_popular = filtered_popular.sort_values('avg_rating', ascending=False)\n",
    "\n",
    "# 3. Select the top 50 books after sorting by average rating\n",
    "top_50_popular = sorted_popular.head(50)\n",
    "\n",
    "# Reassign the final result back to the 'popular' variable\n",
    "popular = top_50_popular\n"
   ]
  },
  {
   "cell_type": "code",
   "execution_count": 21,
   "id": "97de41e6",
   "metadata": {
    "execution": {
     "iopub.execute_input": "2024-02-11T19:52:17.429803Z",
     "iopub.status.busy": "2024-02-11T19:52:17.429332Z",
     "iopub.status.idle": "2024-02-11T19:52:17.621862Z",
     "shell.execute_reply": "2024-02-11T19:52:17.620578Z"
    },
    "papermill": {
     "duration": 0.211927,
     "end_time": "2024-02-11T19:52:17.625087",
     "exception": false,
     "start_time": "2024-02-11T19:52:17.413160",
     "status": "completed"
    },
    "tags": []
   },
   "outputs": [
    {
     "data": {
      "text/html": [
       "<div>\n",
       "<style scoped>\n",
       "    .dataframe tbody tr th:only-of-type {\n",
       "        vertical-align: middle;\n",
       "    }\n",
       "\n",
       "    .dataframe tbody tr th {\n",
       "        vertical-align: top;\n",
       "    }\n",
       "\n",
       "    .dataframe thead th {\n",
       "        text-align: right;\n",
       "    }\n",
       "</style>\n",
       "<table border=\"1\" class=\"dataframe\">\n",
       "  <thead>\n",
       "    <tr style=\"text-align: right;\">\n",
       "      <th></th>\n",
       "      <th>Book-Title</th>\n",
       "      <th>num_ratings</th>\n",
       "      <th>avg_rating</th>\n",
       "      <th>Book-Author</th>\n",
       "      <th>Image-URL-M</th>\n",
       "    </tr>\n",
       "  </thead>\n",
       "  <tbody>\n",
       "    <tr>\n",
       "      <th>0</th>\n",
       "      <td>The Two Towers (The Lord of the Rings, Part 2)</td>\n",
       "      <td>136</td>\n",
       "      <td>9.330882</td>\n",
       "      <td>J.R.R. TOLKIEN</td>\n",
       "      <td>http://images.amazon.com/images/P/0345339711.0...</td>\n",
       "    </tr>\n",
       "    <tr>\n",
       "      <th>11</th>\n",
       "      <td>The Return of the King (The Lord of the Rings,...</td>\n",
       "      <td>103</td>\n",
       "      <td>9.213592</td>\n",
       "      <td>J.R.R. TOLKIEN</td>\n",
       "      <td>http://images.amazon.com/images/P/0345339738.0...</td>\n",
       "    </tr>\n",
       "    <tr>\n",
       "      <th>21</th>\n",
       "      <td>Harry Potter and the Goblet of Fire (Book 4)</td>\n",
       "      <td>247</td>\n",
       "      <td>9.125506</td>\n",
       "      <td>J. K. Rowling</td>\n",
       "      <td>http://images.amazon.com/images/P/0439139597.0...</td>\n",
       "    </tr>\n",
       "    <tr>\n",
       "      <th>23</th>\n",
       "      <td>Harry Potter and the Sorcerer's Stone (Book 1)</td>\n",
       "      <td>176</td>\n",
       "      <td>9.062500</td>\n",
       "      <td>J. K. Rowling</td>\n",
       "      <td>http://images.amazon.com/images/P/0590353403.0...</td>\n",
       "    </tr>\n",
       "    <tr>\n",
       "      <th>27</th>\n",
       "      <td>Harry Potter and the Order of the Phoenix (Boo...</td>\n",
       "      <td>211</td>\n",
       "      <td>9.047393</td>\n",
       "      <td>J. K. Rowling</td>\n",
       "      <td>http://images.amazon.com/images/P/043935806X.0...</td>\n",
       "    </tr>\n",
       "    <tr>\n",
       "      <th>31</th>\n",
       "      <td>Harry Potter and the Prisoner of Azkaban (Book 3)</td>\n",
       "      <td>277</td>\n",
       "      <td>9.043321</td>\n",
       "      <td>J. K. Rowling</td>\n",
       "      <td>http://images.amazon.com/images/P/0439136350.0...</td>\n",
       "    </tr>\n",
       "    <tr>\n",
       "      <th>34</th>\n",
       "      <td>To Kill a Mockingbird</td>\n",
       "      <td>267</td>\n",
       "      <td>8.977528</td>\n",
       "      <td>Harper Lee</td>\n",
       "      <td>http://images.amazon.com/images/P/0446310786.0...</td>\n",
       "    </tr>\n",
       "    <tr>\n",
       "      <th>42</th>\n",
       "      <td>Harry Potter and the Sorcerer's Stone (Harry P...</td>\n",
       "      <td>315</td>\n",
       "      <td>8.936508</td>\n",
       "      <td>J. K. Rowling</td>\n",
       "      <td>http://images.amazon.com/images/P/059035342X.0...</td>\n",
       "    </tr>\n",
       "    <tr>\n",
       "      <th>44</th>\n",
       "      <td>Ender's Game (Ender Wiggins Saga (Paperback))</td>\n",
       "      <td>151</td>\n",
       "      <td>8.920530</td>\n",
       "      <td>Orson Scott Card</td>\n",
       "      <td>http://images.amazon.com/images/P/0312853238.0...</td>\n",
       "    </tr>\n",
       "    <tr>\n",
       "      <th>48</th>\n",
       "      <td>The Fellowship of the Ring (The Lord of the Ri...</td>\n",
       "      <td>205</td>\n",
       "      <td>8.882927</td>\n",
       "      <td>J.R.R. TOLKIEN</td>\n",
       "      <td>http://images.amazon.com/images/P/0345339703.0...</td>\n",
       "    </tr>\n",
       "    <tr>\n",
       "      <th>57</th>\n",
       "      <td>Harry Potter and the Chamber of Secrets (Book 2)</td>\n",
       "      <td>326</td>\n",
       "      <td>8.840491</td>\n",
       "      <td>J. K. Rowling</td>\n",
       "      <td>http://images.amazon.com/images/P/0439064872.0...</td>\n",
       "    </tr>\n",
       "    <tr>\n",
       "      <th>60</th>\n",
       "      <td>1984</td>\n",
       "      <td>144</td>\n",
       "      <td>8.784722</td>\n",
       "      <td>George Orwell</td>\n",
       "      <td>http://images.amazon.com/images/P/0451524934.0...</td>\n",
       "    </tr>\n",
       "    <tr>\n",
       "      <th>69</th>\n",
       "      <td>The Hobbit : The Enchanting Prelude to The Lor...</td>\n",
       "      <td>161</td>\n",
       "      <td>8.739130</td>\n",
       "      <td>J.R.R. TOLKIEN</td>\n",
       "      <td>http://images.amazon.com/images/P/0345339681.0...</td>\n",
       "    </tr>\n",
       "    <tr>\n",
       "      <th>70</th>\n",
       "      <td>The Subtle Knife (His Dark Materials, Book 2)</td>\n",
       "      <td>107</td>\n",
       "      <td>8.672897</td>\n",
       "      <td>PHILIP PULLMAN</td>\n",
       "      <td>http://images.amazon.com/images/P/0375823468.0...</td>\n",
       "    </tr>\n",
       "    <tr>\n",
       "      <th>78</th>\n",
       "      <td>The Giver (21st Century Reference)</td>\n",
       "      <td>102</td>\n",
       "      <td>8.627451</td>\n",
       "      <td>LOIS LOWRY</td>\n",
       "      <td>http://images.amazon.com/images/P/0440219078.0...</td>\n",
       "    </tr>\n",
       "    <tr>\n",
       "      <th>80</th>\n",
       "      <td>A Prayer for Owen Meany</td>\n",
       "      <td>182</td>\n",
       "      <td>8.615385</td>\n",
       "      <td>John Irving</td>\n",
       "      <td>http://images.amazon.com/images/P/0345361792.0...</td>\n",
       "    </tr>\n",
       "    <tr>\n",
       "      <th>82</th>\n",
       "      <td>Watership Down</td>\n",
       "      <td>134</td>\n",
       "      <td>8.611940</td>\n",
       "      <td>Richard George Adams</td>\n",
       "      <td>http://images.amazon.com/images/P/038039586X.0...</td>\n",
       "    </tr>\n",
       "    <tr>\n",
       "      <th>86</th>\n",
       "      <td>Tuesdays with Morrie: An Old Man, a Young Man,...</td>\n",
       "      <td>250</td>\n",
       "      <td>8.588000</td>\n",
       "      <td>MITCH ALBOM</td>\n",
       "      <td>http://images.amazon.com/images/P/0385484518.0...</td>\n",
       "    </tr>\n",
       "    <tr>\n",
       "      <th>89</th>\n",
       "      <td>The Color Purple</td>\n",
       "      <td>145</td>\n",
       "      <td>8.586207</td>\n",
       "      <td>Alice Walker</td>\n",
       "      <td>http://images.amazon.com/images/P/0671617028.0...</td>\n",
       "    </tr>\n",
       "    <tr>\n",
       "      <th>95</th>\n",
       "      <td>Fahrenheit 451</td>\n",
       "      <td>204</td>\n",
       "      <td>8.549020</td>\n",
       "      <td>Ray Bradbury</td>\n",
       "      <td>http://images.amazon.com/images/P/3257208626.0...</td>\n",
       "    </tr>\n",
       "    <tr>\n",
       "      <th>108</th>\n",
       "      <td>Fried Green Tomatoes at the Whistle Stop Cafe</td>\n",
       "      <td>126</td>\n",
       "      <td>8.531746</td>\n",
       "      <td>Fannie Flagg</td>\n",
       "      <td>http://images.amazon.com/images/P/0070212570.0...</td>\n",
       "    </tr>\n",
       "    <tr>\n",
       "      <th>112</th>\n",
       "      <td>The Hitchhiker's Guide to the Galaxy</td>\n",
       "      <td>136</td>\n",
       "      <td>8.529412</td>\n",
       "      <td>Douglas Adams</td>\n",
       "      <td>http://images.amazon.com/images/P/0671461494.0...</td>\n",
       "    </tr>\n",
       "    <tr>\n",
       "      <th>121</th>\n",
       "      <td>The Green Mile</td>\n",
       "      <td>114</td>\n",
       "      <td>8.526316</td>\n",
       "      <td>Stephen King</td>\n",
       "      <td>http://images.amazon.com/images/P/0671032658.0...</td>\n",
       "    </tr>\n",
       "    <tr>\n",
       "      <th>124</th>\n",
       "      <td>Night</td>\n",
       "      <td>100</td>\n",
       "      <td>8.520000</td>\n",
       "      <td>Elie Wiesel</td>\n",
       "      <td>http://images.amazon.com/images/P/0553272535.0...</td>\n",
       "    </tr>\n",
       "    <tr>\n",
       "      <th>129</th>\n",
       "      <td>Outlander</td>\n",
       "      <td>139</td>\n",
       "      <td>8.496403</td>\n",
       "      <td>DIANA GABALDON</td>\n",
       "      <td>http://images.amazon.com/images/P/0440222915.0...</td>\n",
       "    </tr>\n",
       "    <tr>\n",
       "      <th>135</th>\n",
       "      <td>The Secret Life of Bees</td>\n",
       "      <td>406</td>\n",
       "      <td>8.477833</td>\n",
       "      <td>Sue Monk Kidd</td>\n",
       "      <td>http://images.amazon.com/images/P/0142001740.0...</td>\n",
       "    </tr>\n",
       "    <tr>\n",
       "      <th>141</th>\n",
       "      <td>Seabiscuit: An American Legend</td>\n",
       "      <td>133</td>\n",
       "      <td>8.473684</td>\n",
       "      <td>LAURA HILLENBRAND</td>\n",
       "      <td>http://images.amazon.com/images/P/0449005615.0...</td>\n",
       "    </tr>\n",
       "    <tr>\n",
       "      <th>143</th>\n",
       "      <td>The Handmaid's Tale</td>\n",
       "      <td>125</td>\n",
       "      <td>8.456000</td>\n",
       "      <td>Margaret Atwood</td>\n",
       "      <td>http://images.amazon.com/images/P/0449212602.0...</td>\n",
       "    </tr>\n",
       "    <tr>\n",
       "      <th>147</th>\n",
       "      <td>The Da Vinci Code</td>\n",
       "      <td>494</td>\n",
       "      <td>8.439271</td>\n",
       "      <td>Dan Brown</td>\n",
       "      <td>http://images.amazon.com/images/P/0385504209.0...</td>\n",
       "    </tr>\n",
       "    <tr>\n",
       "      <th>153</th>\n",
       "      <td>Fast Food Nation: The Dark Side of the All-Ame...</td>\n",
       "      <td>154</td>\n",
       "      <td>8.415584</td>\n",
       "      <td>Eric Schlosser</td>\n",
       "      <td>http://images.amazon.com/images/P/0060938455.0...</td>\n",
       "    </tr>\n",
       "    <tr>\n",
       "      <th>154</th>\n",
       "      <td>The Golden Compass (His Dark Materials, Book 1)</td>\n",
       "      <td>160</td>\n",
       "      <td>8.400000</td>\n",
       "      <td>PHILIP PULLMAN</td>\n",
       "      <td>http://images.amazon.com/images/P/037582345X.0...</td>\n",
       "    </tr>\n",
       "    <tr>\n",
       "      <th>162</th>\n",
       "      <td>Silence of the Lambs</td>\n",
       "      <td>121</td>\n",
       "      <td>8.380165</td>\n",
       "      <td>Thomas Harris</td>\n",
       "      <td>http://images.amazon.com/images/P/0312924585.0...</td>\n",
       "    </tr>\n",
       "    <tr>\n",
       "      <th>165</th>\n",
       "      <td>ANGELA'S ASHES</td>\n",
       "      <td>136</td>\n",
       "      <td>8.360294</td>\n",
       "      <td>Frank McCourt</td>\n",
       "      <td>http://images.amazon.com/images/P/0684874350.0...</td>\n",
       "    </tr>\n",
       "    <tr>\n",
       "      <th>167</th>\n",
       "      <td>The Poisonwood Bible</td>\n",
       "      <td>112</td>\n",
       "      <td>8.348214</td>\n",
       "      <td>Barbara Kingsolver</td>\n",
       "      <td>http://images.amazon.com/images/P/0060175400.0...</td>\n",
       "    </tr>\n",
       "    <tr>\n",
       "      <th>170</th>\n",
       "      <td>Animal Farm</td>\n",
       "      <td>120</td>\n",
       "      <td>8.300000</td>\n",
       "      <td>George Orwell</td>\n",
       "      <td>http://images.amazon.com/images/P/0451526341.0...</td>\n",
       "    </tr>\n",
       "    <tr>\n",
       "      <th>180</th>\n",
       "      <td>Hard Eight : A Stephanie Plum Novel (A Stephan...</td>\n",
       "      <td>124</td>\n",
       "      <td>8.298387</td>\n",
       "      <td>Janet Evanovich</td>\n",
       "      <td>http://images.amazon.com/images/P/0312983867.0...</td>\n",
       "    </tr>\n",
       "    <tr>\n",
       "      <th>185</th>\n",
       "      <td>The Bean Trees</td>\n",
       "      <td>192</td>\n",
       "      <td>8.281250</td>\n",
       "      <td>Barbara Kingsolver</td>\n",
       "      <td>http://images.amazon.com/images/P/0060915544.0...</td>\n",
       "    </tr>\n",
       "    <tr>\n",
       "      <th>188</th>\n",
       "      <td>I Know This Much Is True</td>\n",
       "      <td>106</td>\n",
       "      <td>8.264151</td>\n",
       "      <td>Wally Lamb</td>\n",
       "      <td>http://images.amazon.com/images/P/0060987561.0...</td>\n",
       "    </tr>\n",
       "    <tr>\n",
       "      <th>192</th>\n",
       "      <td>Two for the Dough</td>\n",
       "      <td>112</td>\n",
       "      <td>8.258929</td>\n",
       "      <td>Janet Evanovich</td>\n",
       "      <td>http://images.amazon.com/images/P/0671001795.0...</td>\n",
       "    </tr>\n",
       "    <tr>\n",
       "      <th>193</th>\n",
       "      <td>Nickel and Dimed: On (Not) Getting By in America</td>\n",
       "      <td>174</td>\n",
       "      <td>8.258621</td>\n",
       "      <td>Barbara Ehrenreich</td>\n",
       "      <td>http://images.amazon.com/images/P/0805063897.0...</td>\n",
       "    </tr>\n",
       "    <tr>\n",
       "      <th>195</th>\n",
       "      <td>The Color of Water: A Black Man's Tribute to H...</td>\n",
       "      <td>111</td>\n",
       "      <td>8.252252</td>\n",
       "      <td>James McBride</td>\n",
       "      <td>http://images.amazon.com/images/P/1573225789.0...</td>\n",
       "    </tr>\n",
       "    <tr>\n",
       "      <th>197</th>\n",
       "      <td>A Walk in the Woods: Rediscovering America on ...</td>\n",
       "      <td>106</td>\n",
       "      <td>8.207547</td>\n",
       "      <td>Bill Bryson</td>\n",
       "      <td>http://images.amazon.com/images/P/0767902521.0...</td>\n",
       "    </tr>\n",
       "    <tr>\n",
       "      <th>198</th>\n",
       "      <td>Lucky : A Memoir</td>\n",
       "      <td>133</td>\n",
       "      <td>8.195489</td>\n",
       "      <td>Alice Sebold</td>\n",
       "      <td>http://images.amazon.com/images/P/0316096199.0...</td>\n",
       "    </tr>\n",
       "    <tr>\n",
       "      <th>199</th>\n",
       "      <td>The Lovely Bones: A Novel</td>\n",
       "      <td>707</td>\n",
       "      <td>8.185290</td>\n",
       "      <td>Alice Sebold</td>\n",
       "      <td>http://images.amazon.com/images/P/0316666343.0...</td>\n",
       "    </tr>\n",
       "    <tr>\n",
       "      <th>200</th>\n",
       "      <td>The Red Tent (Bestselling Backlist)</td>\n",
       "      <td>383</td>\n",
       "      <td>8.182768</td>\n",
       "      <td>Anita Diamant</td>\n",
       "      <td>http://images.amazon.com/images/P/0312195516.0...</td>\n",
       "    </tr>\n",
       "    <tr>\n",
       "      <th>201</th>\n",
       "      <td>Four Blind Mice</td>\n",
       "      <td>104</td>\n",
       "      <td>8.182692</td>\n",
       "      <td>James Patterson</td>\n",
       "      <td>http://images.amazon.com/images/P/0316693006.0...</td>\n",
       "    </tr>\n",
       "    <tr>\n",
       "      <th>205</th>\n",
       "      <td>The Alchemist: A Fable About Following Your Dream</td>\n",
       "      <td>126</td>\n",
       "      <td>8.182540</td>\n",
       "      <td>Paulo Coelho</td>\n",
       "      <td>http://images.amazon.com/images/P/0062502174.0...</td>\n",
       "    </tr>\n",
       "    <tr>\n",
       "      <th>207</th>\n",
       "      <td>The Poisonwood Bible: A Novel</td>\n",
       "      <td>218</td>\n",
       "      <td>8.178899</td>\n",
       "      <td>Barbara Kingsolver</td>\n",
       "      <td>http://images.amazon.com/images/P/0060930535.0...</td>\n",
       "    </tr>\n",
       "    <tr>\n",
       "      <th>208</th>\n",
       "      <td>Prodigal Summer: A Novel</td>\n",
       "      <td>138</td>\n",
       "      <td>8.159420</td>\n",
       "      <td>Barbara Kingsolver</td>\n",
       "      <td>http://images.amazon.com/images/P/0060959037.0...</td>\n",
       "    </tr>\n",
       "    <tr>\n",
       "      <th>209</th>\n",
       "      <td>The Joy Luck Club</td>\n",
       "      <td>208</td>\n",
       "      <td>8.153846</td>\n",
       "      <td>Amy Tan</td>\n",
       "      <td>http://images.amazon.com/images/P/0804106304.0...</td>\n",
       "    </tr>\n",
       "  </tbody>\n",
       "</table>\n",
       "</div>"
      ],
      "text/plain": [
       "                                            Book-Title  num_ratings  \\\n",
       "0       The Two Towers (The Lord of the Rings, Part 2)          136   \n",
       "11   The Return of the King (The Lord of the Rings,...          103   \n",
       "21        Harry Potter and the Goblet of Fire (Book 4)          247   \n",
       "23      Harry Potter and the Sorcerer's Stone (Book 1)          176   \n",
       "27   Harry Potter and the Order of the Phoenix (Boo...          211   \n",
       "31   Harry Potter and the Prisoner of Azkaban (Book 3)          277   \n",
       "34                               To Kill a Mockingbird          267   \n",
       "42   Harry Potter and the Sorcerer's Stone (Harry P...          315   \n",
       "44       Ender's Game (Ender Wiggins Saga (Paperback))          151   \n",
       "48   The Fellowship of the Ring (The Lord of the Ri...          205   \n",
       "57    Harry Potter and the Chamber of Secrets (Book 2)          326   \n",
       "60                                                1984          144   \n",
       "69   The Hobbit : The Enchanting Prelude to The Lor...          161   \n",
       "70       The Subtle Knife (His Dark Materials, Book 2)          107   \n",
       "78                  The Giver (21st Century Reference)          102   \n",
       "80                             A Prayer for Owen Meany          182   \n",
       "82                                      Watership Down          134   \n",
       "86   Tuesdays with Morrie: An Old Man, a Young Man,...          250   \n",
       "89                                    The Color Purple          145   \n",
       "95                                      Fahrenheit 451          204   \n",
       "108      Fried Green Tomatoes at the Whistle Stop Cafe          126   \n",
       "112               The Hitchhiker's Guide to the Galaxy          136   \n",
       "121                                     The Green Mile          114   \n",
       "124                                              Night          100   \n",
       "129                                          Outlander          139   \n",
       "135                            The Secret Life of Bees          406   \n",
       "141                     Seabiscuit: An American Legend          133   \n",
       "143                                The Handmaid's Tale          125   \n",
       "147                                  The Da Vinci Code          494   \n",
       "153  Fast Food Nation: The Dark Side of the All-Ame...          154   \n",
       "154    The Golden Compass (His Dark Materials, Book 1)          160   \n",
       "162                               Silence of the Lambs          121   \n",
       "165                                     ANGELA'S ASHES          136   \n",
       "167                               The Poisonwood Bible          112   \n",
       "170                                        Animal Farm          120   \n",
       "180  Hard Eight : A Stephanie Plum Novel (A Stephan...          124   \n",
       "185                                     The Bean Trees          192   \n",
       "188                           I Know This Much Is True          106   \n",
       "192                                  Two for the Dough          112   \n",
       "193   Nickel and Dimed: On (Not) Getting By in America          174   \n",
       "195  The Color of Water: A Black Man's Tribute to H...          111   \n",
       "197  A Walk in the Woods: Rediscovering America on ...          106   \n",
       "198                                   Lucky : A Memoir          133   \n",
       "199                          The Lovely Bones: A Novel          707   \n",
       "200                The Red Tent (Bestselling Backlist)          383   \n",
       "201                                    Four Blind Mice          104   \n",
       "205  The Alchemist: A Fable About Following Your Dream          126   \n",
       "207                      The Poisonwood Bible: A Novel          218   \n",
       "208                           Prodigal Summer: A Novel          138   \n",
       "209                                  The Joy Luck Club          208   \n",
       "\n",
       "     avg_rating           Book-Author  \\\n",
       "0      9.330882        J.R.R. TOLKIEN   \n",
       "11     9.213592        J.R.R. TOLKIEN   \n",
       "21     9.125506         J. K. Rowling   \n",
       "23     9.062500         J. K. Rowling   \n",
       "27     9.047393         J. K. Rowling   \n",
       "31     9.043321         J. K. Rowling   \n",
       "34     8.977528            Harper Lee   \n",
       "42     8.936508         J. K. Rowling   \n",
       "44     8.920530      Orson Scott Card   \n",
       "48     8.882927        J.R.R. TOLKIEN   \n",
       "57     8.840491         J. K. Rowling   \n",
       "60     8.784722         George Orwell   \n",
       "69     8.739130        J.R.R. TOLKIEN   \n",
       "70     8.672897        PHILIP PULLMAN   \n",
       "78     8.627451            LOIS LOWRY   \n",
       "80     8.615385           John Irving   \n",
       "82     8.611940  Richard George Adams   \n",
       "86     8.588000           MITCH ALBOM   \n",
       "89     8.586207          Alice Walker   \n",
       "95     8.549020          Ray Bradbury   \n",
       "108    8.531746          Fannie Flagg   \n",
       "112    8.529412         Douglas Adams   \n",
       "121    8.526316          Stephen King   \n",
       "124    8.520000           Elie Wiesel   \n",
       "129    8.496403        DIANA GABALDON   \n",
       "135    8.477833         Sue Monk Kidd   \n",
       "141    8.473684     LAURA HILLENBRAND   \n",
       "143    8.456000       Margaret Atwood   \n",
       "147    8.439271             Dan Brown   \n",
       "153    8.415584        Eric Schlosser   \n",
       "154    8.400000        PHILIP PULLMAN   \n",
       "162    8.380165         Thomas Harris   \n",
       "165    8.360294         Frank McCourt   \n",
       "167    8.348214    Barbara Kingsolver   \n",
       "170    8.300000         George Orwell   \n",
       "180    8.298387       Janet Evanovich   \n",
       "185    8.281250    Barbara Kingsolver   \n",
       "188    8.264151            Wally Lamb   \n",
       "192    8.258929       Janet Evanovich   \n",
       "193    8.258621    Barbara Ehrenreich   \n",
       "195    8.252252         James McBride   \n",
       "197    8.207547           Bill Bryson   \n",
       "198    8.195489          Alice Sebold   \n",
       "199    8.185290          Alice Sebold   \n",
       "200    8.182768         Anita Diamant   \n",
       "201    8.182692       James Patterson   \n",
       "205    8.182540          Paulo Coelho   \n",
       "207    8.178899    Barbara Kingsolver   \n",
       "208    8.159420    Barbara Kingsolver   \n",
       "209    8.153846               Amy Tan   \n",
       "\n",
       "                                           Image-URL-M  \n",
       "0    http://images.amazon.com/images/P/0345339711.0...  \n",
       "11   http://images.amazon.com/images/P/0345339738.0...  \n",
       "21   http://images.amazon.com/images/P/0439139597.0...  \n",
       "23   http://images.amazon.com/images/P/0590353403.0...  \n",
       "27   http://images.amazon.com/images/P/043935806X.0...  \n",
       "31   http://images.amazon.com/images/P/0439136350.0...  \n",
       "34   http://images.amazon.com/images/P/0446310786.0...  \n",
       "42   http://images.amazon.com/images/P/059035342X.0...  \n",
       "44   http://images.amazon.com/images/P/0312853238.0...  \n",
       "48   http://images.amazon.com/images/P/0345339703.0...  \n",
       "57   http://images.amazon.com/images/P/0439064872.0...  \n",
       "60   http://images.amazon.com/images/P/0451524934.0...  \n",
       "69   http://images.amazon.com/images/P/0345339681.0...  \n",
       "70   http://images.amazon.com/images/P/0375823468.0...  \n",
       "78   http://images.amazon.com/images/P/0440219078.0...  \n",
       "80   http://images.amazon.com/images/P/0345361792.0...  \n",
       "82   http://images.amazon.com/images/P/038039586X.0...  \n",
       "86   http://images.amazon.com/images/P/0385484518.0...  \n",
       "89   http://images.amazon.com/images/P/0671617028.0...  \n",
       "95   http://images.amazon.com/images/P/3257208626.0...  \n",
       "108  http://images.amazon.com/images/P/0070212570.0...  \n",
       "112  http://images.amazon.com/images/P/0671461494.0...  \n",
       "121  http://images.amazon.com/images/P/0671032658.0...  \n",
       "124  http://images.amazon.com/images/P/0553272535.0...  \n",
       "129  http://images.amazon.com/images/P/0440222915.0...  \n",
       "135  http://images.amazon.com/images/P/0142001740.0...  \n",
       "141  http://images.amazon.com/images/P/0449005615.0...  \n",
       "143  http://images.amazon.com/images/P/0449212602.0...  \n",
       "147  http://images.amazon.com/images/P/0385504209.0...  \n",
       "153  http://images.amazon.com/images/P/0060938455.0...  \n",
       "154  http://images.amazon.com/images/P/037582345X.0...  \n",
       "162  http://images.amazon.com/images/P/0312924585.0...  \n",
       "165  http://images.amazon.com/images/P/0684874350.0...  \n",
       "167  http://images.amazon.com/images/P/0060175400.0...  \n",
       "170  http://images.amazon.com/images/P/0451526341.0...  \n",
       "180  http://images.amazon.com/images/P/0312983867.0...  \n",
       "185  http://images.amazon.com/images/P/0060915544.0...  \n",
       "188  http://images.amazon.com/images/P/0060987561.0...  \n",
       "192  http://images.amazon.com/images/P/0671001795.0...  \n",
       "193  http://images.amazon.com/images/P/0805063897.0...  \n",
       "195  http://images.amazon.com/images/P/1573225789.0...  \n",
       "197  http://images.amazon.com/images/P/0767902521.0...  \n",
       "198  http://images.amazon.com/images/P/0316096199.0...  \n",
       "199  http://images.amazon.com/images/P/0316666343.0...  \n",
       "200  http://images.amazon.com/images/P/0312195516.0...  \n",
       "201  http://images.amazon.com/images/P/0316693006.0...  \n",
       "205  http://images.amazon.com/images/P/0062502174.0...  \n",
       "207  http://images.amazon.com/images/P/0060930535.0...  \n",
       "208  http://images.amazon.com/images/P/0060959037.0...  \n",
       "209  http://images.amazon.com/images/P/0804106304.0...  "
      ]
     },
     "metadata": {},
     "output_type": "display_data"
    }
   ],
   "source": [
    "# Merge the 'popular' DataFrame with the 'books' DataFrame based on the common column 'Book-Title'\n",
    "# Ensure both DataFrames contain the column 'Book-Title' and the columns you want to keep after the merge\n",
    "merged_data = popular.merge(books, on='Book-Title', how='left')\n",
    "\n",
    "# Remove duplicate entries based on 'Book-Title' to ensure each book is represented only once\n",
    "# This is important to avoid having multiple rows for the same book in the final DataFrame\n",
    "unique_data = merged_data.drop_duplicates('Book-Title')\n",
    "\n",
    "# Before selecting specific columns, check if 'Book-Author' and 'Image-URL-M' exist in the 'unique_data' DataFrame\n",
    "# If they don't exist, you might need to check the merge operation or the original 'books' DataFrame\n",
    "columns_to_select = ['Book-Title', 'num_ratings', 'avg_rating']\n",
    "if 'Book-Author' in unique_data.columns and 'Image-URL-M' in unique_data.columns:\n",
    "    columns_to_select += ['Book-Author', 'Image-URL-M']\n",
    "\n",
    "final_data = unique_data[columns_to_select]\n",
    "\n",
    "# Reassign the processed DataFrame back to the 'popular' variable\n",
    "# This DataFrame now contains the merged, deduplicated, and filtered results\n",
    "popular = final_data\n",
    "\n",
    "# Save the final DataFrame to a CSV file named 'Popularity_Based_Recommender_System_top_50_books_with_at_least_100_ratings.csv'\n",
    "# This will store the top 50 popular books with detailed information in a CSV file for further use\n",
    "popular.to_csv('Popularity_Based_Recommender_System_top_50_books_with_at_least_100_ratings.csv', index=False)\n",
    "\n",
    "# Display the final DataFrame in the Jupyter notebook\n",
    "# This allows you to visually inspect the top 50 popular books with their details\n",
    "display(popular)\n"
   ]
  },
  {
   "cell_type": "markdown",
   "id": "010d50eb",
   "metadata": {},
   "source": [
    "### Data Visualization"
   ]
  },
  {
   "cell_type": "code",
   "execution_count": 22,
   "id": "eaf05225",
   "metadata": {
    "scrolled": true
   },
   "outputs": [
    {
     "data": {
      "image/png": "[encoded data removed]",
      "text/plain": [
       "<Figure size 1000x800 with 2 Axes>"
      ]
     },
     "metadata": {},
     "output_type": "display_data"
    }
   ],
   "source": [
    "# Use pivot to transform the data format for easier heatmap visualization\n",
    "heatmap_data = popular.pivot(index=\"Book-Title\", columns=\"num_ratings\", values=\"avg_rating\")\n",
    "\n",
    "# Plot the heatmap\n",
    "plt.figure(figsize=(10, 8)) \n",
    "sns.heatmap(heatmap_data, annot=True, fmt=\".1f\", cmap=\"YlGnBu\", linewidths=.5)\n",
    "plt.title(\"Heatmap of Books by Number of Ratings and Average Rating\")\n",
    "plt.show()\n",
    "\n"
   ]
  },
  {
   "cell_type": "code",
   "execution_count": 23,
   "id": "d453c7c9",
   "metadata": {},
   "outputs": [
    {
     "data": {
      "image/png": "[encoded data removed]",
      "text/plain": [
       "<Figure size 1000x800 with 1 Axes>"
      ]
     },
     "metadata": {},
     "output_type": "display_data"
    }
   ],
   "source": [
    "# Rating Distribution Pie Chart\n",
    "# Count the occurrences of each rating\n",
    "rating_counts = ratings['Book-Rating'].value_counts().sort_index()\n",
    "\n",
    "plt.figure(figsize=(10, 8))\n",
    "colors = plt.cm.viridis(np.linspace(0, 1, len(rating_counts)))  \n",
    "explode = [0.05] * len(rating_counts)  \n",
    "autopct = lambda p: f'{p:.1f}%' if p >= 4.4 else ''\n",
    "\n",
    "plt.pie(rating_counts, labels=rating_counts.index, autopct=autopct, startangle=90, colors=colors, explode=explode)\n",
    "plt.title('Distribution of Book Ratings', fontsize=16)\n",
    "plt.axis('equal')  \n",
    "plt.show()\n"
   ]
  },
  {
   "cell_type": "code",
   "execution_count": 24,
   "id": "93313e15",
   "metadata": {},
   "outputs": [
    {
     "data": {
      "text/plain": [
       "Text(0, 0.5, 'Average Rating')"
      ]
     },
     "execution_count": 24,
     "metadata": {},
     "output_type": "execute_result"
    },
    {
     "data": {
      "image/png": "[encoded data removed]",
      "text/plain": [
       "<Figure size 1200x600 with 1 Axes>"
      ]
     },
     "metadata": {},
     "output_type": "display_data"
    }
   ],
   "source": [
    "# # Scatter Plot of Number of Ratings vs. Average Rating: Create a scatter plot showing the relationship between the number of ratings and the average rating of books\n",
    "plt.figure(figsize=(12, 6))\n",
    "\n",
    "#Visualize the relationship between the number of ratings and the average rating using a scatter plot, and add transparency to reduce visual clutter from overlapping points. Additionally, use the size of the points to represent the number of ratings, where larger points indicate more ratings.\n",
    "scatter = sns.scatterplot(\n",
    "    data=popular, \n",
    "    x='num_ratings', \n",
    "    y='avg_rating', \n",
    "    size='num_ratings', \n",
    "    alpha=0.5, \n",
    "    sizes=(20, 200), \n",
    "    legend=False  \n",
    ")\n",
    "plt.grid(True)\n",
    "plt.title('Number of Ratings vs Average Rating (Enhanced Visualization)')\n",
    "plt.xlabel('Number of Ratings')\n",
    "plt.ylabel('Average Rating')"
   ]
  },
  {
   "cell_type": "code",
   "execution_count": 25,
   "id": "69b36315",
   "metadata": {},
   "outputs": [
    {
     "data": {
      "image/png": "[encoded data removed]",
      "text/plain": [
       "<Figure size 1000x500 with 1 Axes>"
      ]
     },
     "metadata": {},
     "output_type": "display_data"
    }
   ],
   "source": [
    "#Select the top-rated books with the highest number of ratings, and use a bar chart to display their average ratings\n",
    "top_books = popular.sort_values('num_ratings', ascending=False).head(10)\n",
    "plt.figure(figsize=(10, 5))\n",
    "sns.barplot(data=top_books, x='avg_rating', y='Book-Title')\n",
    "plt.title('Top Books by Number of Ratings')\n",
    "plt.xlabel('Average Rating')\n",
    "plt.ylabel('Book Title')\n",
    "plt.show()\n"
   ]
  },
  {
   "cell_type": "markdown",
   "id": "16027607",
   "metadata": {},
   "source": [
    "# 4. Collaborative Filtering Recommender System"
   ]
  },
  {
   "cell_type": "code",
   "execution_count": 26,
   "id": "29e6ad09",
   "metadata": {
    "execution": {
     "iopub.execute_input": "2024-02-11T19:52:17.728404Z",
     "iopub.status.busy": "2024-02-11T19:52:17.727929Z",
     "iopub.status.idle": "2024-02-11T19:52:18.857795Z",
     "shell.execute_reply": "2024-02-11T19:52:18.856672Z"
    },
    "papermill": {
     "duration": 1.148809,
     "end_time": "2024-02-11T19:52:18.860455",
     "exception": false,
     "start_time": "2024-02-11T19:52:17.711646",
     "status": "completed"
    },
    "tags": []
   },
   "outputs": [],
   "source": [
    "# find out users who gave 200+ reviews and save their id in active_users\n",
    "# 1: Group the 'ratings_with_name' DataFrame by 'User-ID' and count the number of 'Book-Rating' for each user\n",
    "# This will result in a Series where the index is 'User-ID' and the value is the count of 'Book-Rating'\n",
    "user_rating_counts = ratings_with_name.groupby('User-ID').count()['Book-Rating']\n",
    "\n",
    "# 2: Create a boolean mask where each 'User-ID' is marked as True if their 'Book-Rating' count is greater than 200\n",
    "# 'x' is a boolean Series where the index is 'User-ID' and the value is True or False based on the condition\n",
    "x = user_rating_counts > 200\n",
    "\n",
    "# : Filter the index of 'x' where the value is True\n",
    "# 'active_users' is an index object containing 'User-ID' of users who have more than 200 'Book-Rating'\n",
    "active_users = x[x].index\n"
   ]
  },
  {
   "cell_type": "code",
   "execution_count": 27,
   "id": "80063253",
   "metadata": {
    "execution": {
     "iopub.execute_input": "2024-02-11T19:52:18.891663Z",
     "iopub.status.busy": "2024-02-11T19:52:18.891197Z",
     "iopub.status.idle": "2024-02-11T19:52:18.999710Z",
     "shell.execute_reply": "2024-02-11T19:52:18.998433Z"
    },
    "papermill": {
     "duration": 0.127709,
     "end_time": "2024-02-11T19:52:19.002925",
     "exception": false,
     "start_time": "2024-02-11T19:52:18.875216",
     "status": "completed"
    },
    "tags": []
   },
   "outputs": [],
   "source": [
    "# Use the 'isin' method to filter the 'ratings_with_name' DataFrame\n",
    "# Keep only the rows where the 'User-ID' column matches with the 'active_users' list\n",
    "# This will create a new DataFrame containing ratings of only the active users\n",
    "filtered_rating = ratings_with_name[ratings_with_name['User-ID'].isin(active_users)]"
   ]
  },
  {
   "cell_type": "code",
   "execution_count": 28,
   "id": "23ee77b5",
   "metadata": {
    "execution": {
     "iopub.execute_input": "2024-02-11T19:52:19.034367Z",
     "iopub.status.busy": "2024-02-11T19:52:19.033883Z",
     "iopub.status.idle": "2024-02-11T19:52:20.049047Z",
     "shell.execute_reply": "2024-02-11T19:52:20.047930Z"
    },
    "papermill": {
     "duration": 1.034239,
     "end_time": "2024-02-11T19:52:20.052007",
     "exception": false,
     "start_time": "2024-02-11T19:52:19.017768",
     "status": "completed"
    },
    "tags": []
   },
   "outputs": [],
   "source": [
    "# creates a list of book titles (famous_books) that have received 50 or more ratings from the active users\n",
    "# 1. Group the 'filtered_rating' DataFrame by 'Book-Title' and count the number of ratings for each book\n",
    "# This will result in a Series where the index is 'Book-Title' and the value is the count of ratings for each book\n",
    "book_rating_counts = filtered_rating.groupby('Book-Title').count()['Book-Rating']\n",
    "\n",
    "# 2. Create a boolean mask where each 'Book-Title' is marked as True if it has 50 or more ratings\n",
    "# 'y' is a boolean Series where the index is 'Book-Title' and the value is True or False based on the condition\n",
    "y = book_rating_counts >= 50\n",
    "\n",
    "# 3. Filter the index of 'y' where the value is True\n",
    "# 'famous_books' is an index object containing 'Book-Title' of books that have 50 or more ratings\n",
    "famous_books = y[y].index"
   ]
  },
  {
   "cell_type": "code",
   "execution_count": 29,
   "id": "5ccbb36d",
   "metadata": {
    "execution": {
     "iopub.execute_input": "2024-02-11T19:52:20.084168Z",
     "iopub.status.busy": "2024-02-11T19:52:20.083792Z",
     "iopub.status.idle": "2024-02-11T19:52:20.176423Z",
     "shell.execute_reply": "2024-02-11T19:52:20.175402Z"
    },
    "papermill": {
     "duration": 0.111661,
     "end_time": "2024-02-11T19:52:20.179253",
     "exception": false,
     "start_time": "2024-02-11T19:52:20.067592",
     "status": "completed"
    },
    "tags": []
   },
   "outputs": [],
   "source": [
    "# create a new DataFrame containing ratings of only the famous books\n",
    "final_ratings = filtered_rating[filtered_rating['Book-Title'].isin(famous_books)]"
   ]
  },
  {
   "cell_type": "code",
   "execution_count": 30,
   "id": "81f9d593",
   "metadata": {
    "execution": {
     "iopub.execute_input": "2024-02-11T19:52:20.213386Z",
     "iopub.status.busy": "2024-02-11T19:52:20.212499Z",
     "iopub.status.idle": "2024-02-11T19:52:20.265800Z",
     "shell.execute_reply": "2024-02-11T19:52:20.264243Z"
    },
    "papermill": {
     "duration": 0.073123,
     "end_time": "2024-02-11T19:52:20.268509",
     "exception": false,
     "start_time": "2024-02-11T19:52:20.195386",
     "status": "completed"
    },
    "tags": []
   },
   "outputs": [],
   "source": [
    "# create a pivot table using the 'pivot_table' method of the 'final_ratings' DataFrame\n",
    "# each row represents a book title, each column represents a user ID, and the values represent the ratings given by users for each book\n",
    "pt = final_ratings.pivot_table(index='Book-Title',columns='User-ID',values='Book-Rating')"
   ]
  },
  {
   "cell_type": "code",
   "execution_count": 31,
   "id": "0f9f9019",
   "metadata": {
    "execution": {
     "iopub.execute_input": "2024-02-11T19:52:20.303343Z",
     "iopub.status.busy": "2024-02-11T19:52:20.302699Z",
     "iopub.status.idle": "2024-02-11T19:52:20.318229Z",
     "shell.execute_reply": "2024-02-11T19:52:20.317235Z"
    },
    "papermill": {
     "duration": 0.03695,
     "end_time": "2024-02-11T19:52:20.321723",
     "exception": false,
     "start_time": "2024-02-11T19:52:20.284773",
     "status": "completed"
    },
    "tags": []
   },
   "outputs": [],
   "source": [
    "# Fill the missing values (unscored cases) in the pivot table with 0 and directly modify the original pivot table\n",
    "pt.fillna(0,inplace=True)"
   ]
  },
  {
   "cell_type": "code",
   "execution_count": 32,
   "id": "f406e0be",
   "metadata": {
    "execution": {
     "iopub.execute_input": "2024-02-11T19:52:20.363330Z",
     "iopub.status.busy": "2024-02-11T19:52:20.361810Z",
     "iopub.status.idle": "2024-02-11T19:52:20.419205Z",
     "shell.execute_reply": "2024-02-11T19:52:20.417634Z"
    },
    "papermill": {
     "duration": 0.078299,
     "end_time": "2024-02-11T19:52:20.421594",
     "exception": false,
     "start_time": "2024-02-11T19:52:20.343295",
     "status": "completed"
    },
    "scrolled": true,
    "tags": []
   },
   "outputs": [
    {
     "data": {
      "text/html": [
       "<div>\n",
       "<style scoped>\n",
       "    .dataframe tbody tr th:only-of-type {\n",
       "        vertical-align: middle;\n",
       "    }\n",
       "\n",
       "    .dataframe tbody tr th {\n",
       "        vertical-align: top;\n",
       "    }\n",
       "\n",
       "    .dataframe thead th {\n",
       "        text-align: right;\n",
       "    }\n",
       "</style>\n",
       "<table border=\"1\" class=\"dataframe\">\n",
       "  <thead>\n",
       "    <tr style=\"text-align: right;\">\n",
       "      <th>User-ID</th>\n",
       "    </tr>\n",
       "    <tr>\n",
       "      <th>Book-Title</th>\n",
       "    </tr>\n",
       "  </thead>\n",
       "  <tbody>\n",
       "  </tbody>\n",
       "</table>\n",
       "</div>"
      ],
      "text/plain": [
       "Empty DataFrame\n",
       "Columns: []\n",
       "Index: []"
      ]
     },
     "execution_count": 32,
     "metadata": {},
     "output_type": "execute_result"
    }
   ],
   "source": [
    "pt"
   ]
  },
  {
   "cell_type": "code",
   "execution_count": 33,
   "id": "636aed59",
   "metadata": {
    "execution": {
     "iopub.execute_input": "2024-02-11T19:52:20.454066Z",
     "iopub.status.busy": "2024-02-11T19:52:20.453303Z",
     "iopub.status.idle": "2024-02-11T19:52:20.487765Z",
     "shell.execute_reply": "2024-02-11T19:52:20.486061Z"
    },
    "papermill": {
     "duration": 0.055652,
     "end_time": "2024-02-11T19:52:20.492357",
     "exception": false,
     "start_time": "2024-02-11T19:52:20.436705",
     "status": "completed"
    },
    "tags": []
   },
   "outputs": [
    {
     "ename": "ValueError",
     "evalue": "Found array with 0 sample(s) (shape=(0, 0)) while a minimum of 1 is required by check_pairwise_arrays.",
     "output_type": "error",
     "traceback": [
      "\u001b[1;31m---------------------------------------------------------------------------\u001b[0m",
      "\u001b[1;31mValueError\u001b[0m                                Traceback (most recent call last)",
      "Cell \u001b[1;32mIn[33], line 3\u001b[0m\n\u001b[0;32m      1\u001b[0m \u001b[38;5;66;03m# Calculate the cosine similarity scores between rows of the pivot table (pt). \u001b[39;00m\n\u001b[0;32m      2\u001b[0m \u001b[38;5;66;03m#In recommendation systems such as collaborative filtering, cosine similarity is often used to calculate the similarity between items (such as books, movies, etc.) to recommend similar items to users. items.\u001b[39;00m\n\u001b[1;32m----> 3\u001b[0m similarity_scores \u001b[38;5;241m=\u001b[39m cosine_similarity(pt)\n",
      "File \u001b[1;32m~\\anaconda3\\Lib\\site-packages\\sklearn\\utils\\_param_validation.py:211\u001b[0m, in \u001b[0;36mvalidate_params.<locals>.decorator.<locals>.wrapper\u001b[1;34m(*args, **kwargs)\u001b[0m\n\u001b[0;32m    205\u001b[0m \u001b[38;5;28;01mtry\u001b[39;00m:\n\u001b[0;32m    206\u001b[0m     \u001b[38;5;28;01mwith\u001b[39;00m config_context(\n\u001b[0;32m    207\u001b[0m         skip_parameter_validation\u001b[38;5;241m=\u001b[39m(\n\u001b[0;32m    208\u001b[0m             prefer_skip_nested_validation \u001b[38;5;129;01mor\u001b[39;00m global_skip_validation\n\u001b[0;32m    209\u001b[0m         )\n\u001b[0;32m    210\u001b[0m     ):\n\u001b[1;32m--> 211\u001b[0m         \u001b[38;5;28;01mreturn\u001b[39;00m func(\u001b[38;5;241m*\u001b[39margs, \u001b[38;5;241m*\u001b[39m\u001b[38;5;241m*\u001b[39mkwargs)\n\u001b[0;32m    212\u001b[0m \u001b[38;5;28;01mexcept\u001b[39;00m InvalidParameterError \u001b[38;5;28;01mas\u001b[39;00m e:\n\u001b[0;32m    213\u001b[0m     \u001b[38;5;66;03m# When the function is just a wrapper around an estimator, we allow\u001b[39;00m\n\u001b[0;32m    214\u001b[0m     \u001b[38;5;66;03m# the function to delegate validation to the estimator, but we replace\u001b[39;00m\n\u001b[0;32m    215\u001b[0m     \u001b[38;5;66;03m# the name of the estimator by the name of the function in the error\u001b[39;00m\n\u001b[0;32m    216\u001b[0m     \u001b[38;5;66;03m# message to avoid confusion.\u001b[39;00m\n\u001b[0;32m    217\u001b[0m     msg \u001b[38;5;241m=\u001b[39m re\u001b[38;5;241m.\u001b[39msub(\n\u001b[0;32m    218\u001b[0m         \u001b[38;5;124mr\u001b[39m\u001b[38;5;124m\"\u001b[39m\u001b[38;5;124mparameter of \u001b[39m\u001b[38;5;124m\\\u001b[39m\u001b[38;5;124mw+ must be\u001b[39m\u001b[38;5;124m\"\u001b[39m,\n\u001b[0;32m    219\u001b[0m         \u001b[38;5;124mf\u001b[39m\u001b[38;5;124m\"\u001b[39m\u001b[38;5;124mparameter of \u001b[39m\u001b[38;5;132;01m{\u001b[39;00mfunc\u001b[38;5;241m.\u001b[39m\u001b[38;5;18m__qualname__\u001b[39m\u001b[38;5;132;01m}\u001b[39;00m\u001b[38;5;124m must be\u001b[39m\u001b[38;5;124m\"\u001b[39m,\n\u001b[0;32m    220\u001b[0m         \u001b[38;5;28mstr\u001b[39m(e),\n\u001b[0;32m    221\u001b[0m     )\n",
      "File \u001b[1;32m~\\anaconda3\\Lib\\site-packages\\sklearn\\metrics\\pairwise.py:1577\u001b[0m, in \u001b[0;36mcosine_similarity\u001b[1;34m(X, Y, dense_output)\u001b[0m\n\u001b[0;32m   1542\u001b[0m \u001b[38;5;250m\u001b[39m\u001b[38;5;124;03m\"\"\"Compute cosine similarity between samples in X and Y.\u001b[39;00m\n\u001b[0;32m   1543\u001b[0m \n\u001b[0;32m   1544\u001b[0m \u001b[38;5;124;03mCosine similarity, or the cosine kernel, computes similarity as the\u001b[39;00m\n\u001b[1;32m   (...)\u001b[0m\n\u001b[0;32m   1573\u001b[0m \u001b[38;5;124;03m    Returns the cosine similarity between samples in X and Y.\u001b[39;00m\n\u001b[0;32m   1574\u001b[0m \u001b[38;5;124;03m\"\"\"\u001b[39;00m\n\u001b[0;32m   1575\u001b[0m \u001b[38;5;66;03m# to avoid recursive import\u001b[39;00m\n\u001b[1;32m-> 1577\u001b[0m X, Y \u001b[38;5;241m=\u001b[39m check_pairwise_arrays(X, Y)\n\u001b[0;32m   1579\u001b[0m X_normalized \u001b[38;5;241m=\u001b[39m normalize(X, copy\u001b[38;5;241m=\u001b[39m\u001b[38;5;28;01mTrue\u001b[39;00m)\n\u001b[0;32m   1580\u001b[0m \u001b[38;5;28;01mif\u001b[39;00m X \u001b[38;5;129;01mis\u001b[39;00m Y:\n",
      "File \u001b[1;32m~\\anaconda3\\Lib\\site-packages\\sklearn\\metrics\\pairwise.py:156\u001b[0m, in \u001b[0;36mcheck_pairwise_arrays\u001b[1;34m(X, Y, precomputed, dtype, accept_sparse, force_all_finite, copy)\u001b[0m\n\u001b[0;32m    153\u001b[0m     dtype \u001b[38;5;241m=\u001b[39m dtype_float\n\u001b[0;32m    155\u001b[0m \u001b[38;5;28;01mif\u001b[39;00m Y \u001b[38;5;129;01mis\u001b[39;00m X \u001b[38;5;129;01mor\u001b[39;00m Y \u001b[38;5;129;01mis\u001b[39;00m \u001b[38;5;28;01mNone\u001b[39;00m:\n\u001b[1;32m--> 156\u001b[0m     X \u001b[38;5;241m=\u001b[39m Y \u001b[38;5;241m=\u001b[39m check_array(\n\u001b[0;32m    157\u001b[0m         X,\n\u001b[0;32m    158\u001b[0m         accept_sparse\u001b[38;5;241m=\u001b[39maccept_sparse,\n\u001b[0;32m    159\u001b[0m         dtype\u001b[38;5;241m=\u001b[39mdtype,\n\u001b[0;32m    160\u001b[0m         copy\u001b[38;5;241m=\u001b[39mcopy,\n\u001b[0;32m    161\u001b[0m         force_all_finite\u001b[38;5;241m=\u001b[39mforce_all_finite,\n\u001b[0;32m    162\u001b[0m         estimator\u001b[38;5;241m=\u001b[39mestimator,\n\u001b[0;32m    163\u001b[0m     )\n\u001b[0;32m    164\u001b[0m \u001b[38;5;28;01melse\u001b[39;00m:\n\u001b[0;32m    165\u001b[0m     X \u001b[38;5;241m=\u001b[39m check_array(\n\u001b[0;32m    166\u001b[0m         X,\n\u001b[0;32m    167\u001b[0m         accept_sparse\u001b[38;5;241m=\u001b[39maccept_sparse,\n\u001b[1;32m   (...)\u001b[0m\n\u001b[0;32m    171\u001b[0m         estimator\u001b[38;5;241m=\u001b[39mestimator,\n\u001b[0;32m    172\u001b[0m     )\n",
      "File \u001b[1;32m~\\anaconda3\\Lib\\site-packages\\sklearn\\utils\\validation.py:969\u001b[0m, in \u001b[0;36mcheck_array\u001b[1;34m(array, accept_sparse, accept_large_sparse, dtype, order, copy, force_all_finite, ensure_2d, allow_nd, ensure_min_samples, ensure_min_features, estimator, input_name)\u001b[0m\n\u001b[0;32m    967\u001b[0m     n_samples \u001b[38;5;241m=\u001b[39m _num_samples(array)\n\u001b[0;32m    968\u001b[0m     \u001b[38;5;28;01mif\u001b[39;00m n_samples \u001b[38;5;241m<\u001b[39m ensure_min_samples:\n\u001b[1;32m--> 969\u001b[0m         \u001b[38;5;28;01mraise\u001b[39;00m \u001b[38;5;167;01mValueError\u001b[39;00m(\n\u001b[0;32m    970\u001b[0m             \u001b[38;5;124m\"\u001b[39m\u001b[38;5;124mFound array with \u001b[39m\u001b[38;5;132;01m%d\u001b[39;00m\u001b[38;5;124m sample(s) (shape=\u001b[39m\u001b[38;5;132;01m%s\u001b[39;00m\u001b[38;5;124m) while a\u001b[39m\u001b[38;5;124m\"\u001b[39m\n\u001b[0;32m    971\u001b[0m             \u001b[38;5;124m\"\u001b[39m\u001b[38;5;124m minimum of \u001b[39m\u001b[38;5;132;01m%d\u001b[39;00m\u001b[38;5;124m is required\u001b[39m\u001b[38;5;132;01m%s\u001b[39;00m\u001b[38;5;124m.\u001b[39m\u001b[38;5;124m\"\u001b[39m\n\u001b[0;32m    972\u001b[0m             \u001b[38;5;241m%\u001b[39m (n_samples, array\u001b[38;5;241m.\u001b[39mshape, ensure_min_samples, context)\n\u001b[0;32m    973\u001b[0m         )\n\u001b[0;32m    975\u001b[0m \u001b[38;5;28;01mif\u001b[39;00m ensure_min_features \u001b[38;5;241m>\u001b[39m \u001b[38;5;241m0\u001b[39m \u001b[38;5;129;01mand\u001b[39;00m array\u001b[38;5;241m.\u001b[39mndim \u001b[38;5;241m==\u001b[39m \u001b[38;5;241m2\u001b[39m:\n\u001b[0;32m    976\u001b[0m     n_features \u001b[38;5;241m=\u001b[39m array\u001b[38;5;241m.\u001b[39mshape[\u001b[38;5;241m1\u001b[39m]\n",
      "\u001b[1;31mValueError\u001b[0m: Found array with 0 sample(s) (shape=(0, 0)) while a minimum of 1 is required by check_pairwise_arrays."
     ]
    }
   ],
   "source": [
    "# Calculate the cosine similarity scores between rows of the pivot table (pt). \n",
    "#In recommendation systems such as collaborative filtering, cosine similarity is often used to calculate the similarity between items (such as books, movies, etc.) to recommend similar items to users. items.\n",
    "similarity_scores = cosine_similarity(pt)"
   ]
  },
  {
   "cell_type": "code",
   "execution_count": null,
   "id": "451bacfc",
   "metadata": {
    "execution": {
     "iopub.execute_input": "2024-02-11T19:52:20.621560Z",
     "iopub.status.busy": "2024-02-11T19:52:20.621107Z",
     "iopub.status.idle": "2024-02-11T19:52:20.631471Z",
     "shell.execute_reply": "2024-02-11T19:52:20.630544Z"
    },
    "papermill": {
     "duration": 0.029458,
     "end_time": "2024-02-11T19:52:20.633778",
     "exception": false,
     "start_time": "2024-02-11T19:52:20.604320",
     "status": "completed"
    },
    "tags": []
   },
   "outputs": [],
   "source": [
    "def recommend(book_name):\n",
    "    if book_name in pt.index:\n",
    "        index = np.where(pt.index == book_name)[0][0]\n",
    "        similar_items = sorted(list(enumerate(similarity_scores[index])), key=lambda x: x[1], reverse=True)[1:5]\n",
    "        data = []\n",
    "        for i in similar_items:\n",
    "            item = []\n",
    "            temp_df = books[books['Book-Title'] == pt.index[i[0]]]\n",
    "            item.extend(list(temp_df.drop_duplicates('Book-Title')['Book-Title'].values))\n",
    "            item.extend(list(temp_df.drop_duplicates('Book-Title')['Book-Author'].values))\n",
    "            item.extend(list(temp_df.drop_duplicates('Book-Title')['Image-URL-M'].values))\n",
    "            data.append(item)\n",
    "        return data\n",
    "    else:\n",
    "        return None\n",
    "\n"
   ]
  },
  {
   "cell_type": "code",
   "execution_count": null,
   "id": "bb3a3af5",
   "metadata": {
    "execution": {
     "iopub.execute_input": "2024-02-11T19:52:20.667352Z",
     "iopub.status.busy": "2024-02-11T19:52:20.666897Z",
     "iopub.status.idle": "2024-02-11T19:52:20.883968Z",
     "shell.execute_reply": "2024-02-11T19:52:20.882788Z"
    },
    "papermill": {
     "duration": 0.237828,
     "end_time": "2024-02-11T19:52:20.887509",
     "exception": false,
     "start_time": "2024-02-11T19:52:20.649681",
     "status": "completed"
    },
    "scrolled": true,
    "tags": []
   },
   "outputs": [],
   "source": [
    "# return recommendations for the top 4 books that are most similar to the book titled 'Harry Potter and the Goblet of Fire (Book 4)', including their titles, authors, and image URLs.\n",
    "recommend('Harry Potter and the Order of the Phoenix (Book 5)')"
   ]
  },
  {
   "cell_type": "code",
   "execution_count": null,
   "id": "b839a9f5",
   "metadata": {},
   "outputs": [],
   "source": [
    "# return recommendations for the top 4 books that are most similar to the book titled 'Harry Potter and the Goblet of Fire (Book 4)', including their titles, authors, and image URLs.\n",
    "recommend('1984')"
   ]
  },
  {
   "cell_type": "code",
   "execution_count": null,
   "id": "d3258dcf",
   "metadata": {
    "execution": {
     "iopub.execute_input": "2024-02-11T19:52:20.922383Z",
     "iopub.status.busy": "2024-02-11T19:52:20.921875Z",
     "iopub.status.idle": "2024-02-11T19:52:20.929682Z",
     "shell.execute_reply": "2024-02-11T19:52:20.928520Z"
    },
    "papermill": {
     "duration": 0.028357,
     "end_time": "2024-02-11T19:52:20.932136",
     "exception": false,
     "start_time": "2024-02-11T19:52:20.903779",
     "status": "completed"
    },
    "tags": []
   },
   "outputs": [],
   "source": [
    "# This code utilizes the Python pickle module, which is used to save an object (referred to as \"popular\" here) to a file for later use.\n",
    "# Saving the object to a file allows for reloading the data when the program is run again, avoiding the need to recalculate or fetch the data each time the program runs.\n",
    "import pickle\n",
    "pickle.dump(popular,open('popular.pkl','wb'))"
   ]
  },
  {
   "cell_type": "code",
   "execution_count": null,
   "id": "a1715c0c",
   "metadata": {
    "execution": {
     "iopub.execute_input": "2024-02-11T19:52:20.966094Z",
     "iopub.status.busy": "2024-02-11T19:52:20.965705Z",
     "iopub.status.idle": "2024-02-11T19:52:21.065251Z",
     "shell.execute_reply": "2024-02-11T19:52:21.064034Z"
    },
    "papermill": {
     "duration": 0.119554,
     "end_time": "2024-02-11T19:52:21.067920",
     "exception": false,
     "start_time": "2024-02-11T19:52:20.948366",
     "status": "completed"
    },
    "tags": []
   },
   "outputs": [],
   "source": [
    "# remove duplicate rows in a DataFrame based on the 'Book-Title' column, retains the first occurrence, and returns a new DataFrame that does not contain duplicate 'Book-Title'\n",
    "books.drop_duplicates('Book-Title')"
   ]
  },
  {
   "cell_type": "code",
   "execution_count": null,
   "id": "92482b76",
   "metadata": {
    "execution": {
     "iopub.execute_input": "2024-02-11T19:52:21.102601Z",
     "iopub.status.busy": "2024-02-11T19:52:21.102233Z",
     "iopub.status.idle": "2024-02-11T19:52:21.913053Z",
     "shell.execute_reply": "2024-02-11T19:52:21.911974Z"
    },
    "papermill": {
     "duration": 0.831774,
     "end_time": "2024-02-11T19:52:21.916144",
     "exception": false,
     "start_time": "2024-02-11T19:52:21.084370",
     "status": "completed"
    },
    "tags": []
   },
   "outputs": [],
   "source": [
    "# save the objects pt, books, and similarity_scores as pickle files for future use\n",
    "pickle.dump(pt,open('pt.pkl','wb'))\n",
    "pickle.dump(books,open('books.pkl','wb'))\n",
    "pickle.dump(similarity_scores,open('similarity_scores.pkl','wb'))"
   ]
  },
  {
   "cell_type": "markdown",
   "id": "6a3bc23c",
   "metadata": {},
   "source": [
    "## Model performance of Collaborative Filtering Recommender System"
   ]
  },
  {
   "cell_type": "code",
   "execution_count": null,
   "id": "baf80432",
   "metadata": {},
   "outputs": [],
   "source": [
    "from sklearn.model_selection import train_test_split\n",
    "\n",
    "# Split the dataset into training and testing sets\n",
    "train_data, test_data = train_test_split(ratings_with_name, test_size=0.2, random_state=42)\n",
    "\n",
    "print(f\"Training data size: {train_data.shape}\")\n",
    "print(f\"Test data size: {test_data.shape}\")\n",
    "\n"
   ]
  },
  {
   "cell_type": "code",
   "execution_count": null,
   "id": "b2a5b5bb",
   "metadata": {},
   "outputs": [],
   "source": [
    "# Define a function to retrieve Top-N recommendations\n",
    "def get_top_n(predictions, n=5):\n",
    "    top_n = defaultdict(list)\n",
    "    for uid, iid, true_r, est, _ in predictions:\n",
    "        top_n[uid].append((iid, est))\n",
    "\n",
    "    for uid, user_ratings in top_n.items():\n",
    "        user_ratings.sort(key=lambda x: x[1], reverse=True)\n",
    "        top_n[uid] = user_ratings[:n]\n",
    "    return top_n\n",
    "\n"
   ]
  },
  {
   "cell_type": "code",
   "execution_count": null,
   "id": "0d33f8b9",
   "metadata": {},
   "outputs": [],
   "source": [
    "# Define a function to calculate the Top-N accuracy\n",
    "def calculate_top_n_accuracy(top_n, test_data, threshold=4):\n",
    "    hits = 0\n",
    "    total = 0\n",
    "\n",
    "    for uid, user_ratings in top_n.items():\n",
    "        actual_ratings = test_data[test_data['User-ID'] == uid]\n",
    "        actual_likes = actual_ratings[actual_ratings['Book-Rating'] >= threshold]['Book-Title'].tolist()\n",
    "        \n",
    "        predicted_likes = [iid for (iid, _) in user_ratings if iid in actual_likes]\n",
    "        hits += len(predicted_likes)\n",
    "        total += len(user_ratings)\n",
    "        \n",
    "    return hits / total if total != 0 else 0\n",
    "\n",
    "\n"
   ]
  },
  {
   "cell_type": "code",
   "execution_count": null,
   "id": "3ac1d9ba",
   "metadata": {},
   "outputs": [],
   "source": [
    "# Define a function to calculate coverage\n",
    "def calculate_coverage(top_n, all_books):\n",
    "    recommended_books = set()\n",
    "    for _, user_ratings in top_n.items():\n",
    "        for iid, _ in user_ratings:\n",
    "            recommended_books.add(iid)\n",
    "    return len(recommended_books) / len(all_books)\n",
    "\n"
   ]
  },
  {
   "cell_type": "code",
   "execution_count": null,
   "id": "ef428ea1",
   "metadata": {},
   "outputs": [],
   "source": [
    "# generate recommendations for all book titles and store them in a dictionary\n",
    "book_recommendations = {}\n",
    "unique_books = test_data['Book-Title'].unique()\n",
    "for book in unique_books:\n",
    "    rec = recommend(book)\n",
    "    if rec:\n",
    "        book_recommendations[book] = rec[0][0]  \n",
    "\n",
    "# Generate predictions using the recommendation dictionary\n",
    "predictions = [\n",
    "    (user_id, row['Book-Title'], row['Book-Rating'], book_recommendations.get(row['Book-Title'], 0), None)\n",
    "    for user_id, row in test_data.iterrows()\n",
    "    if row['Book-Title'] in book_recommendations\n",
    "]\n",
    "\n"
   ]
  },
  {
   "cell_type": "code",
   "execution_count": null,
   "id": "b66f504a",
   "metadata": {},
   "outputs": [],
   "source": [
    "# Retrieve Top-N recommendations\n",
    "top_n = get_top_n(predictions, n=5)\n",
    "top_n_accuracy = calculate_top_n_accuracy(top_n, test_data)\n",
    "coverage = calculate_coverage(top_n, set(ratings_with_name['Book-Title'].unique()))\n",
    "\n",
    "print(f\"Top-N Accuracy: {top_n_accuracy}\")\n",
    "print(f\"Coverage: {coverage}\")\n"
   ]
  },
  {
   "cell_type": "markdown",
   "id": "435d5bf1",
   "metadata": {},
   "source": [
    "These two metrics demonstrate the performance of your recommendation system, and each has the following meaning:\n",
    "\n",
    "Top-N Accuracy (approximately 0.00003177): This is a very low value. This metric measures how many of the top N recommendations made by your system are actually high-rated books for each user. A low value indicates that the recommendation system performs poorly in ranking high-rated books among the top N recommendations, meaning that the relevance of the recommendations does not match the user's actual preferences well.\n",
    "\n",
    "Coverage (approximately 0.29%): This value indicates a low coverage rate, meaning that the recommendation system covers only a very small proportion of different books. Ideally, a recommendation system should cover a large proportion of items to ensure diversity in recommendations. A low coverage rate here indicates that your recommendation system recommends only a tiny fraction of the books, suggesting a very limited diversity in the recommendations."
   ]
  },
  {
   "cell_type": "markdown",
   "id": "03d10da9",
   "metadata": {},
   "source": [
    "Possible issues:\n",
    "\n",
    "If most books have very few ratings, inferring user preferences from their behavior will be very difficult. This directly affects recommendation accuracy.\n",
    "\n",
    "Insufficient model complexity: Relying solely on basic similarity metrics (such as cosine similarity) may not be enough to capture complex user preferences. More advanced models such as matrix factorization, deep learning, or model-based collaborative filtering may provide better results.\n",
    "\n",
    "Lack of diversity: The recommendation system tends to recommend only a few highly popular books, which may lower the system's coverage."
   ]
  },
  {
   "cell_type": "markdown",
   "id": "2cf69659",
   "metadata": {},
   "source": [
    "# 5. Bonus Points: GUI"
   ]
  },
  {
   "cell_type": "code",
   "execution_count": null,
   "id": "21bb5011",
   "metadata": {},
   "outputs": [],
   "source": [
    "# GUI\n",
    "import tkinter as tk\n",
    "from PIL import Image, ImageTk\n",
    "import requests\n",
    "from io import BytesIO\n",
    "\n",
    "def recommend_gui(book_name):\n",
    "    if book_name in pt.index:\n",
    "        index = np.where(pt.index == book_name)[0][0]\n",
    "        similar_items = sorted(list(enumerate(similarity_scores[index])), key=lambda x: x[1], reverse=True)[1:5]\n",
    "        data = []\n",
    "        for i in similar_items:\n",
    "            item = []\n",
    "            temp_df = books[books['Book-Title'] == pt.index[i[0]]]\n",
    "            item.extend(list(temp_df.drop_duplicates('Book-Title')['Book-Title'].values))\n",
    "            item.extend(list(temp_df.drop_duplicates('Book-Title')['Book-Author'].values))\n",
    "            item.extend(list(temp_df.drop_duplicates('Book-Title')['Image-URL-M'].values))\n",
    "            data.append(item)\n",
    "        return data\n",
    "    else:\n",
    "        return []\n",
    "\n",
    "\n"
   ]
  },
  {
   "cell_type": "code",
   "execution_count": null,
   "id": "1432a081",
   "metadata": {},
   "outputs": [],
   "source": [
    "def show_recommendations():\n",
    "    book_name = entry.get()\n",
    "    recommendations = recommend_gui(book_name)  # 确保这个函数返回书籍信息列表\n",
    "    for widget in frame.winfo_children():\n",
    "        widget.destroy()\n",
    "    for book in recommendations:\n",
    "        if book:\n",
    "            subframe = tk.Frame(frame)\n",
    "            subframe.pack(fill='x', expand=True, padx=10, pady=5)\n",
    "            title, author, _ = book  # 不显示图像\n",
    "            book_info = f\"Title: {title}\\nAuthor: {author}\"\n",
    "            tk.Label(subframe, text=book_info, justify='left').pack(side='left')\n"
   ]
  },
  {
   "cell_type": "code",
   "execution_count": null,
   "id": "0eb3176d",
   "metadata": {},
   "outputs": [],
   "source": [
    "# Setup the main GUI window\n",
    "root = tk.Tk()\n",
    "root.title('Book Recommender System')"
   ]
  },
  {
   "cell_type": "code",
   "execution_count": null,
   "id": "12ab6be5",
   "metadata": {},
   "outputs": [],
   "source": [
    "# Improve layout by using grid instead of pack for better alignment\n",
    "tk.Label(root, text=\"Enter a book title:\").grid(row=0, column=0, padx=10, pady=10)\n",
    "entry = tk.Entry(root, width=50)\n",
    "entry.grid(row=0, column=1, padx=10, pady=10)\n",
    "\n",
    "tk.Button(root, text=\"Get Recommendations\", command=show_recommendations).grid(row=1, column=0, columnspan=2, pady=10)\n",
    "\n",
    "frame = tk.Frame(root)\n",
    "frame.grid(row=2, column=0, columnspan=2, sticky='nsew')\n",
    "\n",
    "# Configure the grid layout to give the frame widget more space\n",
    "root.grid_rowconfigure(2, weight=1)\n",
    "root.grid_columnconfigure(1, weight=1)\n",
    "\n",
    "root.mainloop()"
   ]
  },
  {
   "cell_type": "code",
   "execution_count": null,
   "id": "437f9de9",
   "metadata": {},
   "outputs": [],
   "source": [
    "from IPython.display import display, Image\n",
    "display(Image(filename='GUI.png'))"
   ]
  },
  {
   "cell_type": "code",
   "execution_count": null,
   "id": "5403c2ac",
   "metadata": {},
   "outputs": [],
   "source": []
  }
 ],
 "metadata": {
  "kaggle": {
   "accelerator": "none",
   "dataSources": [
    {
     "datasetId": 1004280,
     "sourceId": 7595263,
     "sourceType": "datasetVersion"
    }
   ],
   "dockerImageVersionId": 30646,
   "isGpuEnabled": false,
   "isInternetEnabled": true,
   "language": "python",
   "sourceType": "notebook"
  },
  "kernelspec": {
   "display_name": "Python 3 (ipykernel)",
   "language": "python",
   "name": "python3"
  },
  "language_info": {
   "codemirror_mode": {
    "name": "ipython",
    "version": 3
   },
   "file_extension": ".py",
   "mimetype": "text/x-python",
   "name": "python",
   "nbconvert_exporter": "python",
   "pygments_lexer": "ipython3",
   "version": "3.11.5"
  },
  "papermill": {
   "default_parameters": {},
   "duration": 21.940035,
   "end_time": "2024-02-11T19:52:22.856826",
   "environment_variables": {},
   "exception": null,
   "input_path": "__notebook__.ipynb",
   "output_path": "__notebook__.ipynb",
   "parameters": {},
   "start_time": "2024-02-11T19:52:00.916791",
   "version": "2.5.0"
  }
 },
 "nbformat": 4,
 "nbformat_minor": 5
}
